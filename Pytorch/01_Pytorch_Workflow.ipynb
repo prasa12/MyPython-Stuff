{
  "nbformat": 4,
  "nbformat_minor": 0,
  "metadata": {
    "colab": {
      "provenance": [],
      "authorship_tag": "ABX9TyMe4zSfSx3gF+palKap1HXR",
      "include_colab_link": true
    },
    "kernelspec": {
      "name": "python3",
      "display_name": "Python 3"
    },
    "language_info": {
      "name": "python"
    }
  },
  "cells": [
    {
      "cell_type": "markdown",
      "metadata": {
        "id": "view-in-github",
        "colab_type": "text"
      },
      "source": [
        "<a href=\"https://colab.research.google.com/github/prasa12/MyPython-Stuff/blob/master/Pytorch/01_Pytorch_Workflow.ipynb\" target=\"_parent\"><img src=\"https://colab.research.google.com/assets/colab-badge.svg\" alt=\"Open In Colab\"/></a>"
      ]
    },
    {
      "cell_type": "markdown",
      "source": [
        "# Pytorch Workflow\n",
        "\n",
        "Lets explore Pytorch end to end workflow"
      ],
      "metadata": {
        "id": "8GRM3_IqPvtM"
      }
    },
    {
      "cell_type": "code",
      "source": [
        "what_were_covering = {1:\"data(prepare and load)\",\n",
        "                      2: \"Build Model\",\n",
        "                      3: \"Making predictions and evaluating a model(inference)\",\n",
        "                      4: \"Save and loading the Model\",\n",
        "                      5: \"Putting all together\"}\n",
        "\n",
        "what_were_covering"
      ],
      "metadata": {
        "colab": {
          "base_uri": "https://localhost:8080/"
        },
        "id": "wSllpWqmSUkk",
        "outputId": "43986933-fc37-4bac-d8b5-f67e85a3858f"
      },
      "execution_count": 1,
      "outputs": [
        {
          "output_type": "execute_result",
          "data": {
            "text/plain": [
              "{1: 'data(prepare and load)',\n",
              " 2: 'Build Model',\n",
              " 3: 'Making predictions and evaluating a model(inference)',\n",
              " 4: 'Save and loading the Model',\n",
              " 5: 'Putting all together'}"
            ]
          },
          "metadata": {},
          "execution_count": 1
        }
      ]
    },
    {
      "cell_type": "code",
      "source": [
        "import torch\n",
        "from torch import nn\n",
        "import matplotlib.pyplot as plt\n",
        "\n",
        "# Check Pytorch versio\n",
        "torch.__version__"
      ],
      "metadata": {
        "id": "yNKkPk9US3uV"
      },
      "execution_count": null,
      "outputs": []
    },
    {
      "cell_type": "markdown",
      "source": [
        "from typing import Text\n",
        "## 1. Data (preparing and loading)\n",
        "\n",
        "Data can be almost anything in machine learning\n",
        "\n",
        "* Excel Spreadsheet\n",
        "* Images\n",
        "* Videos\n",
        "* Audio\n",
        "* DNA\n",
        "* Text\n",
        "\n",
        "Machine is a game of 2 parts\n",
        "1. Get data into numerical representation\n",
        "2. Build a model to learn patterns in the Numerical representation\n",
        "\n",
        "We will use a linear regression formula to make a straight line with known **parameters**"
      ],
      "metadata": {
        "id": "M0HD73CxlgBL"
      }
    },
    {
      "cell_type": "code",
      "source": [
        "# Create Known parameters\n",
        "weight = 0.7\n",
        "bias = 0.3\n",
        "\n",
        "# Create\n",
        "start = 0\n",
        "end = 1\n",
        "step = 0.02\n",
        "\n",
        "X = torch.arange(start,end, step).unsqueeze(dim=1)\n",
        "y = weight*X+bias\n",
        "\n",
        "X[:10],y[:10]"
      ],
      "metadata": {
        "id": "tAfqv4SJnM24"
      },
      "execution_count": null,
      "outputs": []
    },
    {
      "cell_type": "code",
      "source": [
        "len(X),len(y)"
      ],
      "metadata": {
        "id": "GWXkcjpUmVKR"
      },
      "execution_count": null,
      "outputs": []
    },
    {
      "cell_type": "code",
      "source": [
        "## Splitting the data into training and testing sets\n",
        "\n",
        "# Create a train/test split\n",
        "train_split = int(0.8*len(X))\n",
        "X_train,y_train = X[:train_sp]\n"
      ],
      "metadata": {
        "id": "id24E7aeoXKY"
      },
      "execution_count": null,
      "outputs": []
    }
  ]
}