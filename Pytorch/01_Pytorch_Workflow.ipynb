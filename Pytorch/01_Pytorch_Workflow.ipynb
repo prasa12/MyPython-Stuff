{
  "nbformat": 4,
  "nbformat_minor": 0,
  "metadata": {
    "colab": {
      "provenance": [],
      "authorship_tag": "ABX9TyOXKrkdeXUmWyYINHe1ssRj",
      "include_colab_link": true
    },
    "kernelspec": {
      "name": "python3",
      "display_name": "Python 3"
    },
    "language_info": {
      "name": "python"
    }
  },
  "cells": [
    {
      "cell_type": "markdown",
      "metadata": {
        "id": "view-in-github",
        "colab_type": "text"
      },
      "source": [
        "<a href=\"https://colab.research.google.com/github/prasa12/MyPython-Stuff/blob/master/Pytorch/01_Pytorch_Workflow.ipynb\" target=\"_parent\"><img src=\"https://colab.research.google.com/assets/colab-badge.svg\" alt=\"Open In Colab\"/></a>"
      ]
    },
    {
      "cell_type": "markdown",
      "source": [
        "# Pytorch Workflow\n",
        "\n",
        "Lets explore Pytorch end to end workflow"
      ],
      "metadata": {
        "id": "8GRM3_IqPvtM"
      }
    },
    {
      "cell_type": "code",
      "source": [
        "what_were_covering = {1:\"data(prepare and load)\",\n",
        "                      2: \"Build Model\",\n",
        "                      3: \"Making predictions and evaluating a model(inference)\",\n",
        "                      4: \"Save and loading the Model\",\n",
        "                      5: \"Putting all together\"}\n",
        "\n",
        "what_were_covering"
      ],
      "metadata": {
        "id": "wSllpWqmSUkk"
      },
      "execution_count": null,
      "outputs": []
    },
    {
      "cell_type": "code",
      "source": [
        "import torch\n",
        "from torch import nn\n",
        "import matplotlib.pyplot as plt\n",
        "\n",
        "# Check Pytorch versio\n",
        "torch.__version__"
      ],
      "metadata": {
        "id": "yNKkPk9US3uV"
      },
      "execution_count": null,
      "outputs": []
    },
    {
      "cell_type": "markdown",
      "source": [
        "from typing import Text\n",
        "## 1. Data (preparing and loading)\n",
        "\n",
        "Data can be almost anything in machine learning\n",
        "\n",
        "* Excel Spreadsheet\n",
        "* Images\n",
        "* Videos\n",
        "* Audio\n",
        "* DNA\n",
        "* Text\n",
        "\n",
        "Machine is a game of 2 parts\n",
        "1. Get data into numerical representation\n",
        "2. Build a model to learn patterns in the Numerical representation\n",
        "\n",
        "We will use a linear regression formula to make a straight line with known **parameters**"
      ],
      "metadata": {
        "id": "M0HD73CxlgBL"
      }
    },
    {
      "cell_type": "code",
      "source": [
        "# Create Known parameters\n",
        "weight = 0.7\n",
        "bias = 0.3\n",
        "\n",
        "# Create\n",
        "start = 0\n",
        "end = 1\n",
        "step = 0.02\n",
        "\n",
        "X = torch.arange(start,end, step).unsqueeze(dim=1)\n",
        "y = weight*X+bias\n",
        "\n",
        "X[:10],y[:10]"
      ],
      "metadata": {
        "id": "tAfqv4SJnM24"
      },
      "execution_count": null,
      "outputs": []
    },
    {
      "cell_type": "code",
      "source": [
        "len(X),len(y)"
      ],
      "metadata": {
        "id": "GWXkcjpUmVKR"
      },
      "execution_count": null,
      "outputs": []
    },
    {
      "cell_type": "code",
      "source": [
        "## Splitting the data into training and testing sets\n",
        "\n",
        "# Create a train/test split\n",
        "train_split = int(0.8*len(X))\n",
        "X_train,y_train = X[:train_split], y[:train_split]\n",
        "X_test, y_test = X[train_split:], y[train_split:]\n",
        "\n",
        "len(X_train), len(y_train), len(X_test), len(y_test)\n"
      ],
      "metadata": {
        "id": "id24E7aeoXKY"
      },
      "execution_count": null,
      "outputs": []
    },
    {
      "cell_type": "code",
      "source": [
        "def plot_predictions(train_data = X_train,\n",
        "                     train_labels = y_train,\n",
        "                     test_data = X_test,\n",
        "                     test_labels = y_test,\n",
        "                     predictions = None):\n",
        "  \"\"\"\n",
        "  Plots training data, test data and compare predictions\n",
        "  \"\"\"\n",
        "  plt.figure(figsize=(10,7))\n",
        "\n",
        "  # Plot training data in blue\n",
        "  plt.scatter(train_data, train_labels, c=\"b\", s=4, label=\"Training data\")\n",
        "\n",
        "  # Plot test data in green\n",
        "  plt.scatter(test_data,test_labels, c=\"g\", s=4, label=\"Testing Data\")\n",
        "\n",
        "  # Are there predictions?\n",
        "  if predictions is not None:\n",
        "    #Plot predictions if they exist\n",
        "    plt.scatter(test_data, predictions.detach().numpy(), c=\"r\", s=4, label = \"Predictions\") # Detach and convert to numpy\n",
        "\n",
        "  plt.legend(prop={\"size\": 14});"
      ],
      "metadata": {
        "id": "M5bYJ61CZBn1"
      },
      "execution_count": null,
      "outputs": []
    },
    {
      "cell_type": "code",
      "source": [
        "plot_predictions()"
      ],
      "metadata": {
        "id": "qdU1cqzubBuA"
      },
      "execution_count": null,
      "outputs": []
    },
    {
      "cell_type": "markdown",
      "source": [
        "## 2. Build a model\n",
        "# Linear Regression model"
      ],
      "metadata": {
        "id": "rSxUP-02cS83"
      }
    },
    {
      "cell_type": "code",
      "source": [
        "class LinearRegressionModel(nn.Module):\n",
        "  def __init__(self):\n",
        "    super().__init__()\n",
        "    self.weights = nn.Parameter(torch.randn(1,\n",
        "                                            requires_grad=True,\n",
        "                                            dtype=torch.float))\n",
        "    self.bias = nn.Parameter(torch.randn(1,\n",
        "                                         requires_grad=True,\n",
        "                                         dtype = torch.float))\n",
        "\n",
        "    # Forward method to define the computation in the model\n",
        "  def forward(self,x:torch.Tensor)->torch.Tensor:\n",
        "    return self.weights*x+self.bias"
      ],
      "metadata": {
        "id": "hjnWyyTwdeoc"
      },
      "execution_count": null,
      "outputs": []
    },
    {
      "cell_type": "markdown",
      "source": [
        "### Pytorch Model Building essentials\n",
        "## torch.nn - contains all the buildings for the computational graphs (a neural network can be considered a computational graph)\n",
        "## torch.nn.Parameter - what parameters should our model try and learn, often a Pytorch layer from torch.nn will set these for us\n",
        "## torch.nn.Module - The base class for all neural network modules, if you subclass it, you should overwrite forward()\n",
        "## torch.optim - This is where the optimizers in the Pytorch live, they will help with gradient descent\n",
        "## def forward() - All nn.Module subclasses require you to overwrite forward(), this method defines what happens in the forward computation\n",
        "\n"
      ],
      "metadata": {
        "id": "8BRKniQafFqr"
      }
    },
    {
      "cell_type": "code",
      "source": [
        "### Checking the contents of the Pytorch model\n",
        "torch.manual_seed(42)\n",
        "model_0 = LinearRegressionModel()\n",
        "list(model_0.parameters())"
      ],
      "metadata": {
        "id": "x5PFzac8xip2"
      },
      "execution_count": null,
      "outputs": []
    },
    {
      "cell_type": "code",
      "source": [
        "model_0.state_dict()"
      ],
      "metadata": {
        "id": "wBAZqccTyu18"
      },
      "execution_count": null,
      "outputs": []
    },
    {
      "cell_type": "code",
      "source": [
        "weight, bias"
      ],
      "metadata": {
        "id": "CQdMeE4Gzv4_"
      },
      "execution_count": null,
      "outputs": []
    },
    {
      "cell_type": "markdown",
      "source": [
        "## Making predictions using 'torch.inference_mode()\n",
        "\n",
        "To check out model's predictive power, let's see how well it predicts"
      ],
      "metadata": {
        "id": "jeB_ZBwnz3aW"
      }
    },
    {
      "cell_type": "code",
      "source": [
        "X_test,y_test"
      ],
      "metadata": {
        "id": "o5PTHXMw0qhw"
      },
      "execution_count": null,
      "outputs": []
    },
    {
      "cell_type": "code",
      "source": [
        "with torch.inference_mode():\n",
        "  y_preds = model_0(X_test)\n",
        "\n",
        "y_preds\n"
      ],
      "metadata": {
        "colab": {
          "base_uri": "https://localhost:8080/"
        },
        "id": "CM2sPmTW0bW1",
        "outputId": "6c0a16c7-6f44-4de9-b0e7-2b3119b8c906"
      },
      "execution_count": 216,
      "outputs": [
        {
          "output_type": "execute_result",
          "data": {
            "text/plain": [
              "tensor([[0.8685],\n",
              "        [0.8825],\n",
              "        [0.8965],\n",
              "        [0.9105],\n",
              "        [0.9245],\n",
              "        [0.9384],\n",
              "        [0.9524],\n",
              "        [0.9664],\n",
              "        [0.9804],\n",
              "        [0.9944]])"
            ]
          },
          "metadata": {},
          "execution_count": 216
        }
      ]
    },
    {
      "cell_type": "code",
      "source": [
        "# inference_mode is preferred\n",
        "with torch.no_grad():\n",
        "  y_preds = model_0(X_test)\n",
        "\n",
        "y_preds"
      ],
      "metadata": {
        "id": "2Tf6yh0T2utF"
      },
      "execution_count": null,
      "outputs": []
    },
    {
      "cell_type": "markdown",
      "source": [],
      "metadata": {
        "id": "srH_i7Zn2t9p"
      }
    },
    {
      "cell_type": "code",
      "source": [
        "y_test\n"
      ],
      "metadata": {
        "id": "hFDbuPwQ03nn"
      },
      "execution_count": null,
      "outputs": []
    },
    {
      "cell_type": "code",
      "source": [
        "plot_predictions(predictions=y_preds)"
      ],
      "metadata": {
        "id": "O5OvYw5P1sWi"
      },
      "execution_count": null,
      "outputs": []
    },
    {
      "cell_type": "code",
      "source": [
        "## 3. Train Model\n",
        "list(model_0.parameters())"
      ],
      "metadata": {
        "id": "zYoNmaDr11YF"
      },
      "execution_count": null,
      "outputs": []
    },
    {
      "cell_type": "code",
      "source": [
        "model_0.state_dict()"
      ],
      "metadata": {
        "id": "r369kt7Q7ITE"
      },
      "execution_count": null,
      "outputs": []
    },
    {
      "cell_type": "code",
      "source": [
        "# Set up a loss function and optimizer\n",
        "loss_fn = nn.L1Loss()\n",
        "\n",
        "optimizer = torch.optim.SGD(model_0.parameters(), lr=0.01)"
      ],
      "metadata": {
        "id": "halmmh1Z7hqh"
      },
      "execution_count": null,
      "outputs": []
    },
    {
      "cell_type": "markdown",
      "source": [
        "### Building a traing loop in Pytorch\n",
        "Things we need in training loop\n",
        "0. Loop through Data\n",
        "1. Forward pass\n",
        "2. Calculate the Loss\n",
        "3. optimizer\n",
        "4. Loss Backward - moves backwards through the network and calculates the gradients\n",
        "5. Optimizer step - use the optimizer parameters to optimize the step"
      ],
      "metadata": {
        "id": "o83JMvWP96ht"
      }
    },
    {
      "cell_type": "code",
      "source": [
        "# An epoch is one loop through the data ...\n",
        "epochs = 200\n",
        "\n",
        "# Track different values\n",
        "epoch_count = []\n",
        "loss_values = []\n",
        "test_loss_values = []\n",
        "\n",
        "# 0. Loop through the data\n",
        "for epoch in range(epochs):\n",
        "  # Set the model to training mode\n",
        "  model_0.train()\n",
        "\n",
        "  # Forward pass\n",
        "  y_pred = model_0(X_train)\n",
        "\n",
        "  # Calculate the loss\n",
        "  loss = loss_fn(y_pred, y_train)\n",
        "\n",
        "  # Optimizer\n",
        "  optimizer.zero_grad()\n",
        "\n",
        "  # Loss backward\n",
        "  loss.backward()\n",
        "\n",
        "  # Optimizer step\n",
        "  optimizer.step()\n",
        "\n",
        "    # Evaluate the model on the test set\n",
        "  model_0.eval() # Set the model to evaluation mode\n",
        "  with torch.inference_mode():\n",
        "    # Make predictions on the test data\n",
        "    test_preds = model_0(X_test)\n",
        "\n",
        "    # Calculate the loss on the test predictions\n",
        "    test_loss = loss_fn(test_preds, y_test)\n",
        "\n",
        "  if epoch % 10 == 0:\n",
        "    epoch_count.append(epoch)\n",
        "    loss_values.append(loss.item())\n",
        "    test_loss_values.append(test_loss.item())\n",
        "\n",
        "  print(f\"Test loss: {test_loss.item():.4f}\")\n",
        "\n",
        "list(model_0.parameters())\n"
      ],
      "metadata": {
        "id": "EU_qFky3_wiD"
      },
      "execution_count": null,
      "outputs": []
    },
    {
      "cell_type": "code",
      "source": [
        "y_pred\n",
        "loss, test_loss"
      ],
      "metadata": {
        "id": "FWkIBpY_CLzX"
      },
      "execution_count": null,
      "outputs": []
    },
    {
      "cell_type": "code",
      "metadata": {
        "id": "b22e84cb"
      },
      "source": [
        "# Plot the loss curve\n",
        "import numpy as np\n",
        "\n",
        "plt.plot(epoch_count, np.array(torch.tensor(loss_values).numpy()) ,label = \"Train Loss\")\n",
        "plt.plot(epoch_count, np.array(torch.tensor(test_loss_values).numpy()), label = \"Test Loss\")\n",
        "plt.title(\"Training and Test Loss Curves\")\n",
        "plt.ylabel(\"Loss\")\n",
        "plt.xlabel(\"Epochs\")\n",
        "plt.legend()"
      ],
      "execution_count": null,
      "outputs": []
    },
    {
      "cell_type": "code",
      "source": [
        "plot_predictions(predictions=test_preds)"
      ],
      "metadata": {
        "id": "4DF0Vta6D5VK"
      },
      "execution_count": null,
      "outputs": []
    },
    {
      "cell_type": "markdown",
      "source": [
        "## Saving a model in Pytorch\n",
        "1. torch.save() - allows to save a Pytorch object in Python's pickle format\n",
        "2. torch.load() - allows you load a saved Python object\n",
        "3. torch.nn.Module.load_state_dict() - allows you to load the parameters of a Pytorch model"
      ],
      "metadata": {
        "id": "5N_YX8CxD-JF"
      }
    },
    {
      "cell_type": "code",
      "source": [
        "from pathlib import Path\n",
        "\n",
        "# Create models directory\n",
        "MODEL_PATH = Path(\"models\")\n",
        "MODEL_PATH.mkdir(parents=True, exist_ok=True)\n",
        "MODEL_NAME = \"01_pytorch_workflow_model_0.pth\"\n",
        "MODEL_SAVE_PATH = MODEL_PATH / MODEL_NAME\n",
        "MODEL_PATH, MODEL_SAVE_PATH\n",
        "torch.save(obj=model_0.state_dict(),\n",
        "           f=MODEL_SAVE_PATH)"
      ],
      "metadata": {
        "id": "-DTr1BQsM3w-"
      },
      "execution_count": null,
      "outputs": []
    },
    {
      "cell_type": "code",
      "source": [
        "model_0"
      ],
      "metadata": {
        "colab": {
          "base_uri": "https://localhost:8080/"
        },
        "id": "_-4Z3uIQNAOZ",
        "outputId": "27173ed5-60d8-4e2f-d591-50e1385a9bfe"
      },
      "execution_count": 207,
      "outputs": [
        {
          "output_type": "execute_result",
          "data": {
            "text/plain": [
              "LinearRegressionModel()"
            ]
          },
          "metadata": {},
          "execution_count": 207
        }
      ]
    },
    {
      "cell_type": "code",
      "source": [
        "!ls -l models\n"
      ],
      "metadata": {
        "id": "gVCBuQr3N-NN",
        "outputId": "4612edf9-e75b-4713-8d7c-860db5fcfad1",
        "colab": {
          "base_uri": "https://localhost:8080/"
        }
      },
      "execution_count": 208,
      "outputs": [
        {
          "output_type": "stream",
          "name": "stdout",
          "text": [
            "total 4\n",
            "-rw-r--r-- 1 root root 2117 Sep  3 06:15 01_pytorch_workflow_model_0.pth\n"
          ]
        }
      ]
    },
    {
      "cell_type": "code",
      "source": [
        "# Loading a Pytorch Model\n",
        "model_0.state_dict()"
      ],
      "metadata": {
        "id": "1ngtTbK6OClQ",
        "outputId": "165b4de4-44b0-499b-e931-8b1ed1cfdd34",
        "colab": {
          "base_uri": "https://localhost:8080/"
        }
      },
      "execution_count": 210,
      "outputs": [
        {
          "output_type": "execute_result",
          "data": {
            "text/plain": [
              "OrderedDict([('weights', tensor([0.6990])), ('bias', tensor([0.3093]))])"
            ]
          },
          "metadata": {},
          "execution_count": 210
        }
      ]
    },
    {
      "cell_type": "code",
      "source": [
        "loaded_model_0 = LinearRegressionModel()\n",
        "loaded_model_0.load_state_dict(torch.load(f=MODEL_SAVE_PATH))\n",
        "loaded_model_0.state_dict()\n"
      ],
      "metadata": {
        "id": "Vt-cRddfnsSM",
        "outputId": "33877d41-2a8b-4d83-ae36-ffbd1b6d0593",
        "colab": {
          "base_uri": "https://localhost:8080/"
        }
      },
      "execution_count": 213,
      "outputs": [
        {
          "output_type": "execute_result",
          "data": {
            "text/plain": [
              "OrderedDict([('weights', tensor([0.6990])), ('bias', tensor([0.3093]))])"
            ]
          },
          "metadata": {},
          "execution_count": 213
        }
      ]
    },
    {
      "cell_type": "code",
      "source": [
        "# Make some predictions with the loaded model\n",
        "with torch.inference_mode():\n",
        "  loaded_model_preds = loaded_model_0(X_test)\n",
        "\n",
        "loaded_model_preds"
      ],
      "metadata": {
        "id": "WTf0owuPoC1d",
        "outputId": "fe14de17-4ea0-4b26-ad24-0e49afb7f5c8",
        "colab": {
          "base_uri": "https://localhost:8080/"
        }
      },
      "execution_count": 214,
      "outputs": [
        {
          "output_type": "execute_result",
          "data": {
            "text/plain": [
              "tensor([[0.8685],\n",
              "        [0.8825],\n",
              "        [0.8965],\n",
              "        [0.9105],\n",
              "        [0.9245],\n",
              "        [0.9384],\n",
              "        [0.9524],\n",
              "        [0.9664],\n",
              "        [0.9804],\n",
              "        [0.9944]])"
            ]
          },
          "metadata": {},
          "execution_count": 214
        }
      ]
    },
    {
      "cell_type": "code",
      "source": [
        "y_preds == loaded_model_preds"
      ],
      "metadata": {
        "id": "Q4OF2Mkjoz5h",
        "outputId": "5f7d9829-36f5-4f36-ed3a-3f4876c135f7",
        "colab": {
          "base_uri": "https://localhost:8080/"
        }
      },
      "execution_count": 217,
      "outputs": [
        {
          "output_type": "execute_result",
          "data": {
            "text/plain": [
              "tensor([[True],\n",
              "        [True],\n",
              "        [True],\n",
              "        [True],\n",
              "        [True],\n",
              "        [True],\n",
              "        [True],\n",
              "        [True],\n",
              "        [True],\n",
              "        [True]])"
            ]
          },
          "metadata": {},
          "execution_count": 217
        }
      ]
    },
    {
      "cell_type": "code",
      "source": [],
      "metadata": {
        "id": "-mo9lDwqo_O8"
      },
      "execution_count": null,
      "outputs": []
    }
  ]
}