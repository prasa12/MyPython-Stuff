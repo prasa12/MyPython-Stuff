{
  "nbformat": 4,
  "nbformat_minor": 0,
  "metadata": {
    "colab": {
      "provenance": [],
      "authorship_tag": "ABX9TyOOEWeY0qOOGX1HC67s7kc6",
      "include_colab_link": true
    },
    "kernelspec": {
      "name": "python3",
      "display_name": "Python 3"
    },
    "language_info": {
      "name": "python"
    }
  },
  "cells": [
    {
      "cell_type": "markdown",
      "metadata": {
        "id": "view-in-github",
        "colab_type": "text"
      },
      "source": [
        "<a href=\"https://colab.research.google.com/github/prasa12/MyPython-Stuff/blob/master/Pytorch/01_Pytorch_Workflow.ipynb\" target=\"_parent\"><img src=\"https://colab.research.google.com/assets/colab-badge.svg\" alt=\"Open In Colab\"/></a>"
      ]
    },
    {
      "cell_type": "markdown",
      "source": [
        "# Pytorch Workflow\n",
        "\n",
        "Lets explore Pytorch end to end workflow"
      ],
      "metadata": {
        "id": "8GRM3_IqPvtM"
      }
    },
    {
      "cell_type": "code",
      "source": [
        "what_were_covering = {1:\"data(prepare and load)\",\n",
        "                      2: \"Build Model\",\n",
        "                      3: \"Making predictions and evaluating a model(inference)\",\n",
        "                      4: \"Save and loading the Model\",\n",
        "                      5: \"Putting all together\"}\n",
        "\n",
        "what_were_covering"
      ],
      "metadata": {
        "id": "wSllpWqmSUkk",
        "colab": {
          "base_uri": "https://localhost:8080/"
        },
        "outputId": "ea0c6c98-482a-4de1-cfb1-ad70b74e6e20"
      },
      "execution_count": 124,
      "outputs": [
        {
          "output_type": "execute_result",
          "data": {
            "text/plain": [
              "{1: 'data(prepare and load)',\n",
              " 2: 'Build Model',\n",
              " 3: 'Making predictions and evaluating a model(inference)',\n",
              " 4: 'Save and loading the Model',\n",
              " 5: 'Putting all together'}"
            ]
          },
          "metadata": {},
          "execution_count": 124
        }
      ]
    },
    {
      "cell_type": "code",
      "source": [
        "import torch\n",
        "from torch import nn\n",
        "import matplotlib.pyplot as plt\n",
        "\n",
        "# Check Pytorch versio\n",
        "torch.__version__"
      ],
      "metadata": {
        "id": "yNKkPk9US3uV",
        "colab": {
          "base_uri": "https://localhost:8080/",
          "height": 35
        },
        "outputId": "91444cf8-4046-4a42-abe7-2fa08de325b0"
      },
      "execution_count": 125,
      "outputs": [
        {
          "output_type": "execute_result",
          "data": {
            "text/plain": [
              "'2.8.0+cu126'"
            ],
            "application/vnd.google.colaboratory.intrinsic+json": {
              "type": "string"
            }
          },
          "metadata": {},
          "execution_count": 125
        }
      ]
    },
    {
      "cell_type": "markdown",
      "source": [
        "from typing import Text\n",
        "## 1. Data (preparing and loading)\n",
        "\n",
        "Data can be almost anything in machine learning\n",
        "\n",
        "* Excel Spreadsheet\n",
        "* Images\n",
        "* Videos\n",
        "* Audio\n",
        "* DNA\n",
        "* Text\n",
        "\n",
        "Machine is a game of 2 parts\n",
        "1. Get data into numerical representation\n",
        "2. Build a model to learn patterns in the Numerical representation\n",
        "\n",
        "We will use a linear regression formula to make a straight line with known **parameters**"
      ],
      "metadata": {
        "id": "M0HD73CxlgBL"
      }
    },
    {
      "cell_type": "code",
      "source": [
        "# Create Known parameters\n",
        "weight = 0.7\n",
        "bias = 0.3\n",
        "\n",
        "# Create\n",
        "start = 0\n",
        "end = 1\n",
        "step = 0.02\n",
        "\n",
        "X = torch.arange(start,end, step).unsqueeze(dim=1)\n",
        "y = weight*X+bias\n",
        "\n",
        "X[:10],y[:10]"
      ],
      "metadata": {
        "id": "tAfqv4SJnM24",
        "colab": {
          "base_uri": "https://localhost:8080/"
        },
        "outputId": "2a4c60d2-0f00-4883-d8ad-561afe19fa44"
      },
      "execution_count": 126,
      "outputs": [
        {
          "output_type": "execute_result",
          "data": {
            "text/plain": [
              "(tensor([[0.0000],\n",
              "         [0.0200],\n",
              "         [0.0400],\n",
              "         [0.0600],\n",
              "         [0.0800],\n",
              "         [0.1000],\n",
              "         [0.1200],\n",
              "         [0.1400],\n",
              "         [0.1600],\n",
              "         [0.1800]]),\n",
              " tensor([[0.3000],\n",
              "         [0.3140],\n",
              "         [0.3280],\n",
              "         [0.3420],\n",
              "         [0.3560],\n",
              "         [0.3700],\n",
              "         [0.3840],\n",
              "         [0.3980],\n",
              "         [0.4120],\n",
              "         [0.4260]]))"
            ]
          },
          "metadata": {},
          "execution_count": 126
        }
      ]
    },
    {
      "cell_type": "code",
      "source": [
        "len(X),len(y)"
      ],
      "metadata": {
        "id": "GWXkcjpUmVKR",
        "colab": {
          "base_uri": "https://localhost:8080/"
        },
        "outputId": "3fa8cb64-dcc9-4c18-a1a3-06e12a70660f"
      },
      "execution_count": 127,
      "outputs": [
        {
          "output_type": "execute_result",
          "data": {
            "text/plain": [
              "(50, 50)"
            ]
          },
          "metadata": {},
          "execution_count": 127
        }
      ]
    },
    {
      "cell_type": "code",
      "source": [
        "## Splitting the data into training and testing sets\n",
        "\n",
        "# Create a train/test split\n",
        "train_split = int(0.8*len(X))\n",
        "X_train,y_train = X[:train_split], y[:train_split]\n",
        "X_test, y_test = X[train_split:], y[train_split:]\n",
        "\n",
        "len(X_train), len(y_train), len(X_test), len(y_test)\n"
      ],
      "metadata": {
        "id": "id24E7aeoXKY",
        "colab": {
          "base_uri": "https://localhost:8080/"
        },
        "outputId": "6eec9876-c8f1-4203-e1c4-804578485574"
      },
      "execution_count": 128,
      "outputs": [
        {
          "output_type": "execute_result",
          "data": {
            "text/plain": [
              "(40, 40, 10, 10)"
            ]
          },
          "metadata": {},
          "execution_count": 128
        }
      ]
    },
    {
      "cell_type": "code",
      "source": [
        "def plot_predictions(train_data = X_train,\n",
        "                     train_labels = y_train,\n",
        "                     test_data = X_test,\n",
        "                     test_labels = y_test,\n",
        "                     predictions = None):\n",
        "  \"\"\"\n",
        "  Plots training data, test data and compare predictions\n",
        "  \"\"\"\n",
        "  plt.figure(figsize=(10,7))\n",
        "\n",
        "  # Plot training data in blue\n",
        "  plt.scatter(train_data, train_labels, c=\"b\", s=4, label=\"Training data\")\n",
        "\n",
        "  # Plot test data in green\n",
        "  plt.scatter(test_data,test_labels, c=\"g\", s=4, label=\"Testing Data\")\n",
        "\n",
        "  # Are there predictions?\n",
        "  if predictions is not None:\n",
        "    #Plot predictions if they exist\n",
        "    plt.scatter(test_data, predictions.detach().numpy(), c=\"r\", s=4, label = \"Predictions\") # Detach and convert to numpy\n",
        "\n",
        "  plt.legend(prop={\"size\": 14});"
      ],
      "metadata": {
        "id": "M5bYJ61CZBn1"
      },
      "execution_count": 129,
      "outputs": []
    },
    {
      "cell_type": "code",
      "source": [
        "plot_predictions()"
      ],
      "metadata": {
        "colab": {
          "base_uri": "https://localhost:8080/",
          "height": 599
        },
        "id": "qdU1cqzubBuA",
        "outputId": "2f70edda-39ae-4413-d1c8-0b4e1f8930bc"
      },
      "execution_count": 130,
      "outputs": [
        {
          "output_type": "display_data",
          "data": {
            "text/plain": [
              "<Figure size 1000x700 with 1 Axes>"
            ],
            "image/png": "[encoded data removed]"
          },
          "metadata": {}
        }
      ]
    },
    {
      "cell_type": "markdown",
      "source": [
        "## 2. Build a model\n",
        "# Linear Regression model"
      ],
      "metadata": {
        "id": "rSxUP-02cS83"
      }
    },
    {
      "cell_type": "code",
      "source": [
        "class LinearRegressionModel(nn.Module):\n",
        "  def __init__(self):\n",
        "    super().__init__()\n",
        "    self.weights = nn.Parameter(torch.randn(1,\n",
        "                                            requires_grad=True,\n",
        "                                            dtype=torch.float))\n",
        "    self.bias = nn.Parameter(torch.randn(1,\n",
        "                                         requires_grad=True,\n",
        "                                         dtype = torch.float))\n",
        "\n",
        "    # Forward method to define the computation in the model\n",
        "  def forward(self,x:torch.Tensor)->torch.Tensor:\n",
        "    return self.weights*x+self.bias"
      ],
      "metadata": {
        "id": "hjnWyyTwdeoc"
      },
      "execution_count": 131,
      "outputs": []
    },
    {
      "cell_type": "markdown",
      "source": [
        "### Pytorch Model Building essentials\n",
        "## torch.nn - contains all the buildings for the computational graphs (a neural network can be considered a computational graph)\n",
        "## torch.nn.Parameter - what parameters should our model try and learn, often a Pytorch layer from torch.nn will set these for us\n",
        "## torch.nn.Module - The base class for all neural network modules, if you subclass it, you should overwrite forward()\n",
        "## torch.optim - This is where the optimizers in the Pytorch live, they will help with gradient descent\n",
        "## def forward() - All nn.Module subclasses require you to overwrite forward(), this method defines what happens in the forward computation\n",
        "\n"
      ],
      "metadata": {
        "id": "8BRKniQafFqr"
      }
    },
    {
      "cell_type": "code",
      "source": [
        "### Checking the contents of the Pytorch model\n",
        "torch.manual_seed(42)\n",
        "model_0 = LinearRegressionModel()\n",
        "list(model_0.parameters())"
      ],
      "metadata": {
        "colab": {
          "base_uri": "https://localhost:8080/"
        },
        "id": "x5PFzac8xip2",
        "outputId": "bb9cbc12-7bfd-4fed-90ca-8f6b29ac98a8"
      },
      "execution_count": 132,
      "outputs": [
        {
          "output_type": "execute_result",
          "data": {
            "text/plain": [
              "[Parameter containing:\n",
              " tensor([0.3367], requires_grad=True),\n",
              " Parameter containing:\n",
              " tensor([0.1288], requires_grad=True)]"
            ]
          },
          "metadata": {},
          "execution_count": 132
        }
      ]
    },
    {
      "cell_type": "code",
      "source": [
        "model_0.state_dict()"
      ],
      "metadata": {
        "colab": {
          "base_uri": "https://localhost:8080/"
        },
        "id": "wBAZqccTyu18",
        "outputId": "756a6d12-9482-4f2a-9528-4695bef8b8d7"
      },
      "execution_count": 133,
      "outputs": [
        {
          "output_type": "execute_result",
          "data": {
            "text/plain": [
              "OrderedDict([('weights', tensor([0.3367])), ('bias', tensor([0.1288]))])"
            ]
          },
          "metadata": {},
          "execution_count": 133
        }
      ]
    },
    {
      "cell_type": "code",
      "source": [
        "weight, bias"
      ],
      "metadata": {
        "colab": {
          "base_uri": "https://localhost:8080/"
        },
        "id": "CQdMeE4Gzv4_",
        "outputId": "bcb8f4bb-2924-4a37-b1e8-8e4fd938a293"
      },
      "execution_count": 134,
      "outputs": [
        {
          "output_type": "execute_result",
          "data": {
            "text/plain": [
              "(0.7, 0.3)"
            ]
          },
          "metadata": {},
          "execution_count": 134
        }
      ]
    },
    {
      "cell_type": "markdown",
      "source": [
        "## Making predictions using 'torch.inference_mode()\n",
        "\n",
        "To check out model's predictive power, let's see how well it predicts"
      ],
      "metadata": {
        "id": "jeB_ZBwnz3aW"
      }
    },
    {
      "cell_type": "code",
      "source": [
        "X_test,y_test"
      ],
      "metadata": {
        "colab": {
          "base_uri": "https://localhost:8080/"
        },
        "id": "o5PTHXMw0qhw",
        "outputId": "b0d987d9-a836-4753-ca00-f26d6597fe9d"
      },
      "execution_count": 135,
      "outputs": [
        {
          "output_type": "execute_result",
          "data": {
            "text/plain": [
              "(tensor([[0.8000],\n",
              "         [0.8200],\n",
              "         [0.8400],\n",
              "         [0.8600],\n",
              "         [0.8800],\n",
              "         [0.9000],\n",
              "         [0.9200],\n",
              "         [0.9400],\n",
              "         [0.9600],\n",
              "         [0.9800]]),\n",
              " tensor([[0.8600],\n",
              "         [0.8740],\n",
              "         [0.8880],\n",
              "         [0.9020],\n",
              "         [0.9160],\n",
              "         [0.9300],\n",
              "         [0.9440],\n",
              "         [0.9580],\n",
              "         [0.9720],\n",
              "         [0.9860]]))"
            ]
          },
          "metadata": {},
          "execution_count": 135
        }
      ]
    },
    {
      "cell_type": "code",
      "source": [
        "with torch.inference_mode():\n",
        "  y_preds = model_0(X_test)\n",
        "\n",
        "y_preds\n"
      ],
      "metadata": {
        "colab": {
          "base_uri": "https://localhost:8080/"
        },
        "id": "CM2sPmTW0bW1",
        "outputId": "8fc30191-00ae-4b3b-f7e1-4d6bbb628106"
      },
      "execution_count": 136,
      "outputs": [
        {
          "output_type": "execute_result",
          "data": {
            "text/plain": [
              "tensor([[0.3982],\n",
              "        [0.4049],\n",
              "        [0.4116],\n",
              "        [0.4184],\n",
              "        [0.4251],\n",
              "        [0.4318],\n",
              "        [0.4386],\n",
              "        [0.4453],\n",
              "        [0.4520],\n",
              "        [0.4588]])"
            ]
          },
          "metadata": {},
          "execution_count": 136
        }
      ]
    },
    {
      "cell_type": "code",
      "source": [
        "# inference_mode is preferred\n",
        "with torch.no_grad():\n",
        "  y_preds = model_0(X_test)\n",
        "\n",
        "y_preds"
      ],
      "metadata": {
        "colab": {
          "base_uri": "https://localhost:8080/"
        },
        "id": "2Tf6yh0T2utF",
        "outputId": "56626493-c1da-476c-9a60-4e93372822d4"
      },
      "execution_count": 137,
      "outputs": [
        {
          "output_type": "execute_result",
          "data": {
            "text/plain": [
              "tensor([[0.3982],\n",
              "        [0.4049],\n",
              "        [0.4116],\n",
              "        [0.4184],\n",
              "        [0.4251],\n",
              "        [0.4318],\n",
              "        [0.4386],\n",
              "        [0.4453],\n",
              "        [0.4520],\n",
              "        [0.4588]])"
            ]
          },
          "metadata": {},
          "execution_count": 137
        }
      ]
    },
    {
      "cell_type": "markdown",
      "source": [],
      "metadata": {
        "id": "srH_i7Zn2t9p"
      }
    },
    {
      "cell_type": "code",
      "source": [
        "y_test\n"
      ],
      "metadata": {
        "colab": {
          "base_uri": "https://localhost:8080/"
        },
        "id": "hFDbuPwQ03nn",
        "outputId": "e0bc2457-8ea5-47bb-c116-d7149d6f1f23"
      },
      "execution_count": 138,
      "outputs": [
        {
          "output_type": "execute_result",
          "data": {
            "text/plain": [
              "tensor([[0.8600],\n",
              "        [0.8740],\n",
              "        [0.8880],\n",
              "        [0.9020],\n",
              "        [0.9160],\n",
              "        [0.9300],\n",
              "        [0.9440],\n",
              "        [0.9580],\n",
              "        [0.9720],\n",
              "        [0.9860]])"
            ]
          },
          "metadata": {},
          "execution_count": 138
        }
      ]
    },
    {
      "cell_type": "code",
      "source": [
        "plot_predictions(predictions=y_preds)"
      ],
      "metadata": {
        "colab": {
          "base_uri": "https://localhost:8080/",
          "height": 599
        },
        "id": "O5OvYw5P1sWi",
        "outputId": "b460976a-11b3-4acf-f4c2-896faf1d1030"
      },
      "execution_count": 139,
      "outputs": [
        {
          "output_type": "display_data",
          "data": {
            "text/plain": [
              "<Figure size 1000x700 with 1 Axes>"
            ],
            "image/png": "[encoded data removed]"
          },
          "metadata": {}
        }
      ]
    },
    {
      "cell_type": "code",
      "source": [
        "## 3. Train Model\n",
        "list(model_0.parameters())"
      ],
      "metadata": {
        "colab": {
          "base_uri": "https://localhost:8080/"
        },
        "id": "zYoNmaDr11YF",
        "outputId": "736f35ac-3006-4939-b061-7bf19dae265e"
      },
      "execution_count": 140,
      "outputs": [
        {
          "output_type": "execute_result",
          "data": {
            "text/plain": [
              "[Parameter containing:\n",
              " tensor([0.3367], requires_grad=True),\n",
              " Parameter containing:\n",
              " tensor([0.1288], requires_grad=True)]"
            ]
          },
          "metadata": {},
          "execution_count": 140
        }
      ]
    },
    {
      "cell_type": "code",
      "source": [
        "model_0.state_dict()"
      ],
      "metadata": {
        "colab": {
          "base_uri": "https://localhost:8080/"
        },
        "id": "r369kt7Q7ITE",
        "outputId": "63668bd3-a647-4bc7-d07f-c2203f670da2"
      },
      "execution_count": 141,
      "outputs": [
        {
          "output_type": "execute_result",
          "data": {
            "text/plain": [
              "OrderedDict([('weights', tensor([0.3367])), ('bias', tensor([0.1288]))])"
            ]
          },
          "metadata": {},
          "execution_count": 141
        }
      ]
    },
    {
      "cell_type": "code",
      "source": [
        "# Set up a loss function and optimizer\n",
        "loss_fn = nn.L1Loss()\n",
        "\n",
        "optimizer = torch.optim.SGD(model_0.parameters(), lr=0.01)"
      ],
      "metadata": {
        "id": "halmmh1Z7hqh"
      },
      "execution_count": 142,
      "outputs": []
    },
    {
      "cell_type": "markdown",
      "source": [
        "### Building a traing loop in Pytorch\n",
        "Things we need in training loop\n",
        "0. Loop through Data\n",
        "1. Forward pass\n",
        "2. Calculate the Loss\n",
        "3. optimizer\n",
        "4. Loss Backward - moves backwards through the network and calculates the gradients\n",
        "5. Optimizer step - use the optimizer parameters to optimize the step"
      ],
      "metadata": {
        "id": "o83JMvWP96ht"
      }
    },
    {
      "cell_type": "code",
      "source": [
        "# An epoch is one loop through the data ...\n",
        "epochs = 1000\n",
        "\n",
        "# Track different values\n",
        "epoch_count = []\n",
        "loss_values = []\n",
        "test_loss_values = []\n",
        "\n",
        "# 0. Loop through the data\n",
        "for epoch in range(epochs):\n",
        "  # Set the model to training mode\n",
        "  model_0.train()\n",
        "\n",
        "  # Forward pass\n",
        "  y_pred = model_0(X_train)\n",
        "\n",
        "  # Calculate the loss\n",
        "  loss = loss_fn(y_pred, y_train)\n",
        "\n",
        "  # Optimizer\n",
        "  optimizer.zero_grad()\n",
        "\n",
        "  # Loss backward\n",
        "  loss.backward()\n",
        "\n",
        "  # Optimizer step\n",
        "  optimizer.step()\n",
        "\n",
        "    # Evaluate the model on the test set\n",
        "  model_0.eval() # Set the model to evaluation mode\n",
        "  with torch.inference_mode():\n",
        "    # Make predictions on the test data\n",
        "    test_preds = model_0(X_test)\n",
        "\n",
        "    # Calculate the loss on the test predictions\n",
        "    test_loss = loss_fn(test_preds, y_test)\n",
        "\n",
        "  if epoch % 10 == 0:\n",
        "    epoch_count.append(epoch)\n",
        "    loss_values.append(loss.item())\n",
        "    test_loss_values.append(test_loss.item())\n",
        "\n",
        "  print(f\"Test loss: {test_loss.item():.4f}\")\n",
        "\n",
        "list(model_0.parameters())\n"
      ],
      "metadata": {
        "colab": {
          "base_uri": "https://localhost:8080/"
        },
        "id": "EU_qFky3_wiD",
        "outputId": "0b33e88b-f6da-4e96-c063-3a5e4e656a39"
      },
      "execution_count": 143,
      "outputs": [
        {
          "output_type": "stream",
          "name": "stdout",
          "text": [
            "Test loss: 0.4811\n",
            "Test loss: 0.4676\n",
            "Test loss: 0.4541\n",
            "Test loss: 0.4407\n",
            "Test loss: 0.4272\n",
            "Test loss: 0.4137\n",
            "Test loss: 0.4002\n",
            "Test loss: 0.3868\n",
            "Test loss: 0.3733\n",
            "Test loss: 0.3598\n",
            "Test loss: 0.3464\n",
            "Test loss: 0.3329\n",
            "Test loss: 0.3194\n",
            "Test loss: 0.3059\n",
            "Test loss: 0.2925\n",
            "Test loss: 0.2790\n",
            "Test loss: 0.2655\n",
            "Test loss: 0.2521\n",
            "Test loss: 0.2396\n",
            "Test loss: 0.2282\n",
            "Test loss: 0.2173\n",
            "Test loss: 0.2070\n",
            "Test loss: 0.1977\n",
            "Test loss: 0.1891\n",
            "Test loss: 0.1810\n",
            "Test loss: 0.1735\n",
            "Test loss: 0.1667\n",
            "Test loss: 0.1604\n",
            "Test loss: 0.1547\n",
            "Test loss: 0.1497\n",
            "Test loss: 0.1446\n",
            "Test loss: 0.1402\n",
            "Test loss: 0.1365\n",
            "Test loss: 0.1327\n",
            "Test loss: 0.1290\n",
            "Test loss: 0.1258\n",
            "Test loss: 0.1227\n",
            "Test loss: 0.1203\n",
            "Test loss: 0.1178\n",
            "Test loss: 0.1154\n",
            "Test loss: 0.1136\n",
            "Test loss: 0.1118\n",
            "Test loss: 0.1100\n",
            "Test loss: 0.1083\n",
            "Test loss: 0.1065\n",
            "Test loss: 0.1047\n",
            "Test loss: 0.1036\n",
            "Test loss: 0.1025\n",
            "Test loss: 0.1014\n",
            "Test loss: 0.1003\n",
            "Test loss: 0.0992\n",
            "Test loss: 0.0981\n",
            "Test loss: 0.0970\n",
            "Test loss: 0.0959\n",
            "Test loss: 0.0948\n",
            "Test loss: 0.0937\n",
            "Test loss: 0.0926\n",
            "Test loss: 0.0915\n",
            "Test loss: 0.0904\n",
            "Test loss: 0.0893\n",
            "Test loss: 0.0889\n",
            "Test loss: 0.0878\n",
            "Test loss: 0.0867\n",
            "Test loss: 0.0862\n",
            "Test loss: 0.0851\n",
            "Test loss: 0.0847\n",
            "Test loss: 0.0836\n",
            "Test loss: 0.0832\n",
            "Test loss: 0.0821\n",
            "Test loss: 0.0810\n",
            "Test loss: 0.0806\n",
            "Test loss: 0.0795\n",
            "Test loss: 0.0791\n",
            "Test loss: 0.0780\n",
            "Test loss: 0.0776\n",
            "Test loss: 0.0765\n",
            "Test loss: 0.0754\n",
            "Test loss: 0.0749\n",
            "Test loss: 0.0738\n",
            "Test loss: 0.0734\n",
            "Test loss: 0.0723\n",
            "Test loss: 0.0719\n",
            "Test loss: 0.0708\n",
            "Test loss: 0.0704\n",
            "Test loss: 0.0693\n",
            "Test loss: 0.0682\n",
            "Test loss: 0.0678\n",
            "Test loss: 0.0667\n",
            "Test loss: 0.0663\n",
            "Test loss: 0.0652\n",
            "Test loss: 0.0647\n",
            "Test loss: 0.0636\n",
            "Test loss: 0.0625\n",
            "Test loss: 0.0621\n",
            "Test loss: 0.0610\n",
            "Test loss: 0.0606\n",
            "Test loss: 0.0595\n",
            "Test loss: 0.0591\n",
            "Test loss: 0.0580\n",
            "Test loss: 0.0569\n",
            "Test loss: 0.0565\n",
            "Test loss: 0.0554\n",
            "Test loss: 0.0549\n",
            "Test loss: 0.0538\n",
            "Test loss: 0.0534\n",
            "Test loss: 0.0523\n",
            "Test loss: 0.0519\n",
            "Test loss: 0.0508\n",
            "Test loss: 0.0497\n",
            "Test loss: 0.0493\n",
            "Test loss: 0.0482\n",
            "Test loss: 0.0478\n",
            "Test loss: 0.0467\n",
            "Test loss: 0.0463\n",
            "Test loss: 0.0452\n",
            "Test loss: 0.0441\n",
            "Test loss: 0.0436\n",
            "Test loss: 0.0425\n",
            "Test loss: 0.0421\n",
            "Test loss: 0.0410\n",
            "Test loss: 0.0406\n",
            "Test loss: 0.0395\n",
            "Test loss: 0.0391\n",
            "Test loss: 0.0380\n",
            "Test loss: 0.0369\n",
            "Test loss: 0.0365\n",
            "Test loss: 0.0354\n",
            "Test loss: 0.0350\n",
            "Test loss: 0.0338\n",
            "Test loss: 0.0334\n",
            "Test loss: 0.0323\n",
            "Test loss: 0.0312\n",
            "Test loss: 0.0308\n",
            "Test loss: 0.0297\n",
            "Test loss: 0.0293\n",
            "Test loss: 0.0282\n",
            "Test loss: 0.0278\n",
            "Test loss: 0.0267\n",
            "Test loss: 0.0256\n",
            "Test loss: 0.0252\n",
            "Test loss: 0.0241\n",
            "Test loss: 0.0236\n",
            "Test loss: 0.0225\n",
            "Test loss: 0.0221\n",
            "Test loss: 0.0210\n",
            "Test loss: 0.0206\n",
            "Test loss: 0.0195\n",
            "Test loss: 0.0184\n",
            "Test loss: 0.0180\n",
            "Test loss: 0.0169\n",
            "Test loss: 0.0165\n",
            "Test loss: 0.0154\n",
            "Test loss: 0.0150\n",
            "Test loss: 0.0139\n",
            "Test loss: 0.0128\n",
            "Test loss: 0.0123\n",
            "Test loss: 0.0112\n",
            "Test loss: 0.0108\n",
            "Test loss: 0.0097\n",
            "Test loss: 0.0093\n",
            "Test loss: 0.0082\n",
            "Test loss: 0.0071\n",
            "Test loss: 0.0067\n",
            "Test loss: 0.0056\n",
            "Test loss: 0.0052\n",
            "Test loss: 0.0041\n",
            "Test loss: 0.0037\n",
            "Test loss: 0.0019\n",
            "Test loss: 0.0050\n",
            "Test loss: 0.0084\n",
            "Test loss: 0.0050\n",
            "Test loss: 0.0084\n",
            "Test loss: 0.0050\n",
            "Test loss: 0.0084\n",
            "Test loss: 0.0050\n",
            "Test loss: 0.0084\n",
            "Test loss: 0.0050\n",
            "Test loss: 0.0084\n",
            "Test loss: 0.0050\n",
            "Test loss: 0.0084\n",
            "Test loss: 0.0050\n",
            "Test loss: 0.0084\n",
            "Test loss: 0.0050\n",
            "Test loss: 0.0084\n",
            "Test loss: 0.0050\n",
            "Test loss: 0.0084\n",
            "Test loss: 0.0050\n",
            "Test loss: 0.0084\n",
            "Test loss: 0.0050\n",
            "Test loss: 0.0084\n",
            "Test loss: 0.0050\n",
            "Test loss: 0.0084\n",
            "Test loss: 0.0050\n",
            "Test loss: 0.0084\n",
            "Test loss: 0.0050\n",
            "Test loss: 0.0084\n",
            "Test loss: 0.0050\n",
            "Test loss: 0.0084\n",
            "Test loss: 0.0050\n",
            "Test loss: 0.0084\n",
            "Test loss: 0.0050\n",
            "Test loss: 0.0084\n",
            "Test loss: 0.0050\n",
            "Test loss: 0.0084\n",
            "Test loss: 0.0050\n",
            "Test loss: 0.0084\n",
            "Test loss: 0.0050\n",
            "Test loss: 0.0084\n",
            "Test loss: 0.0050\n",
            "Test loss: 0.0084\n",
            "Test loss: 0.0050\n",
            "Test loss: 0.0084\n",
            "Test loss: 0.0050\n",
            "Test loss: 0.0084\n",
            "Test loss: 0.0050\n",
            "Test loss: 0.0084\n",
            "Test loss: 0.0050\n",
            "Test loss: 0.0084\n",
            "Test loss: 0.0050\n",
            "Test loss: 0.0084\n",
            "Test loss: 0.0050\n",
            "Test loss: 0.0084\n",
            "Test loss: 0.0050\n",
            "Test loss: 0.0084\n",
            "Test loss: 0.0050\n",
            "Test loss: 0.0084\n",
            "Test loss: 0.0050\n",
            "Test loss: 0.0084\n",
            "Test loss: 0.0050\n",
            "Test loss: 0.0084\n",
            "Test loss: 0.0050\n",
            "Test loss: 0.0084\n",
            "Test loss: 0.0050\n",
            "Test loss: 0.0084\n",
            "Test loss: 0.0050\n",
            "Test loss: 0.0084\n",
            "Test loss: 0.0050\n",
            "Test loss: 0.0084\n",
            "Test loss: 0.0050\n",
            "Test loss: 0.0084\n",
            "Test loss: 0.0050\n",
            "Test loss: 0.0084\n",
            "Test loss: 0.0050\n",
            "Test loss: 0.0084\n",
            "Test loss: 0.0050\n",
            "Test loss: 0.0084\n",
            "Test loss: 0.0050\n",
            "Test loss: 0.0084\n",
            "Test loss: 0.0050\n",
            "Test loss: 0.0084\n",
            "Test loss: 0.0050\n",
            "Test loss: 0.0084\n",
            "Test loss: 0.0050\n",
            "Test loss: 0.0084\n",
            "Test loss: 0.0050\n",
            "Test loss: 0.0084\n",
            "Test loss: 0.0050\n",
            "Test loss: 0.0084\n",
            "Test loss: 0.0050\n",
            "Test loss: 0.0084\n",
            "Test loss: 0.0050\n",
            "Test loss: 0.0084\n",
            "Test loss: 0.0050\n",
            "Test loss: 0.0084\n",
            "Test loss: 0.0050\n",
            "Test loss: 0.0084\n",
            "Test loss: 0.0050\n",
            "Test loss: 0.0084\n",
            "Test loss: 0.0050\n",
            "Test loss: 0.0084\n",
            "Test loss: 0.0050\n",
            "Test loss: 0.0084\n",
            "Test loss: 0.0050\n",
            "Test loss: 0.0084\n",
            "Test loss: 0.0050\n",
            "Test loss: 0.0084\n",
            "Test loss: 0.0050\n",
            "Test loss: 0.0084\n",
            "Test loss: 0.0050\n",
            "Test loss: 0.0084\n",
            "Test loss: 0.0050\n",
            "Test loss: 0.0084\n",
            "Test loss: 0.0050\n",
            "Test loss: 0.0084\n",
            "Test loss: 0.0050\n",
            "Test loss: 0.0084\n",
            "Test loss: 0.0050\n",
            "Test loss: 0.0084\n",
            "Test loss: 0.0050\n",
            "Test loss: 0.0084\n",
            "Test loss: 0.0050\n",
            "Test loss: 0.0084\n",
            "Test loss: 0.0050\n",
            "Test loss: 0.0084\n",
            "Test loss: 0.0050\n",
            "Test loss: 0.0084\n",
            "Test loss: 0.0050\n",
            "Test loss: 0.0084\n",
            "Test loss: 0.0050\n",
            "Test loss: 0.0084\n",
            "Test loss: 0.0050\n",
            "Test loss: 0.0084\n",
            "Test loss: 0.0050\n",
            "Test loss: 0.0084\n",
            "Test loss: 0.0050\n",
            "Test loss: 0.0084\n",
            "Test loss: 0.0050\n",
            "Test loss: 0.0084\n",
            "Test loss: 0.0050\n",
            "Test loss: 0.0084\n",
            "Test loss: 0.0050\n",
            "Test loss: 0.0084\n",
            "Test loss: 0.0050\n",
            "Test loss: 0.0084\n",
            "Test loss: 0.0050\n",
            "Test loss: 0.0084\n",
            "Test loss: 0.0050\n",
            "Test loss: 0.0084\n",
            "Test loss: 0.0050\n",
            "Test loss: 0.0084\n",
            "Test loss: 0.0050\n",
            "Test loss: 0.0084\n",
            "Test loss: 0.0050\n",
            "Test loss: 0.0084\n",
            "Test loss: 0.0050\n",
            "Test loss: 0.0084\n",
            "Test loss: 0.0050\n",
            "Test loss: 0.0084\n",
            "Test loss: 0.0050\n",
            "Test loss: 0.0084\n",
            "Test loss: 0.0050\n",
            "Test loss: 0.0084\n",
            "Test loss: 0.0050\n",
            "Test loss: 0.0084\n",
            "Test loss: 0.0050\n",
            "Test loss: 0.0084\n",
            "Test loss: 0.0050\n",
            "Test loss: 0.0084\n",
            "Test loss: 0.0050\n",
            "Test loss: 0.0084\n",
            "Test loss: 0.0050\n",
            "Test loss: 0.0084\n",
            "Test loss: 0.0050\n",
            "Test loss: 0.0084\n",
            "Test loss: 0.0050\n",
            "Test loss: 0.0084\n",
            "Test loss: 0.0050\n",
            "Test loss: 0.0084\n",
            "Test loss: 0.0050\n",
            "Test loss: 0.0084\n",
            "Test loss: 0.0050\n",
            "Test loss: 0.0084\n",
            "Test loss: 0.0050\n",
            "Test loss: 0.0084\n",
            "Test loss: 0.0050\n",
            "Test loss: 0.0084\n",
            "Test loss: 0.0050\n",
            "Test loss: 0.0084\n",
            "Test loss: 0.0050\n",
            "Test loss: 0.0084\n",
            "Test loss: 0.0050\n",
            "Test loss: 0.0084\n",
            "Test loss: 0.0050\n",
            "Test loss: 0.0084\n",
            "Test loss: 0.0050\n",
            "Test loss: 0.0084\n",
            "Test loss: 0.0050\n",
            "Test loss: 0.0084\n",
            "Test loss: 0.0050\n",
            "Test loss: 0.0084\n",
            "Test loss: 0.0050\n",
            "Test loss: 0.0084\n",
            "Test loss: 0.0050\n",
            "Test loss: 0.0084\n",
            "Test loss: 0.0050\n",
            "Test loss: 0.0084\n",
            "Test loss: 0.0050\n",
            "Test loss: 0.0084\n",
            "Test loss: 0.0050\n",
            "Test loss: 0.0084\n",
            "Test loss: 0.0050\n",
            "Test loss: 0.0084\n",
            "Test loss: 0.0050\n",
            "Test loss: 0.0084\n",
            "Test loss: 0.0050\n",
            "Test loss: 0.0084\n",
            "Test loss: 0.0050\n",
            "Test loss: 0.0084\n",
            "Test loss: 0.0050\n",
            "Test loss: 0.0084\n",
            "Test loss: 0.0050\n",
            "Test loss: 0.0084\n",
            "Test loss: 0.0050\n",
            "Test loss: 0.0084\n",
            "Test loss: 0.0050\n",
            "Test loss: 0.0084\n",
            "Test loss: 0.0050\n",
            "Test loss: 0.0084\n",
            "Test loss: 0.0050\n",
            "Test loss: 0.0084\n",
            "Test loss: 0.0050\n",
            "Test loss: 0.0084\n",
            "Test loss: 0.0050\n",
            "Test loss: 0.0084\n",
            "Test loss: 0.0050\n",
            "Test loss: 0.0084\n",
            "Test loss: 0.0050\n",
            "Test loss: 0.0084\n",
            "Test loss: 0.0050\n",
            "Test loss: 0.0084\n",
            "Test loss: 0.0050\n",
            "Test loss: 0.0084\n",
            "Test loss: 0.0050\n",
            "Test loss: 0.0084\n",
            "Test loss: 0.0050\n",
            "Test loss: 0.0084\n",
            "Test loss: 0.0050\n",
            "Test loss: 0.0084\n",
            "Test loss: 0.0050\n",
            "Test loss: 0.0084\n",
            "Test loss: 0.0050\n",
            "Test loss: 0.0084\n",
            "Test loss: 0.0050\n",
            "Test loss: 0.0084\n",
            "Test loss: 0.0050\n",
            "Test loss: 0.0084\n",
            "Test loss: 0.0050\n",
            "Test loss: 0.0084\n",
            "Test loss: 0.0050\n",
            "Test loss: 0.0084\n",
            "Test loss: 0.0050\n",
            "Test loss: 0.0084\n",
            "Test loss: 0.0050\n",
            "Test loss: 0.0084\n",
            "Test loss: 0.0050\n",
            "Test loss: 0.0084\n",
            "Test loss: 0.0050\n",
            "Test loss: 0.0084\n",
            "Test loss: 0.0050\n",
            "Test loss: 0.0084\n",
            "Test loss: 0.0050\n",
            "Test loss: 0.0084\n",
            "Test loss: 0.0050\n",
            "Test loss: 0.0084\n",
            "Test loss: 0.0050\n",
            "Test loss: 0.0084\n",
            "Test loss: 0.0050\n",
            "Test loss: 0.0084\n",
            "Test loss: 0.0050\n",
            "Test loss: 0.0084\n",
            "Test loss: 0.0050\n",
            "Test loss: 0.0084\n",
            "Test loss: 0.0050\n",
            "Test loss: 0.0084\n",
            "Test loss: 0.0050\n",
            "Test loss: 0.0084\n",
            "Test loss: 0.0050\n",
            "Test loss: 0.0084\n",
            "Test loss: 0.0050\n",
            "Test loss: 0.0084\n",
            "Test loss: 0.0050\n",
            "Test loss: 0.0084\n",
            "Test loss: 0.0050\n",
            "Test loss: 0.0084\n",
            "Test loss: 0.0050\n",
            "Test loss: 0.0084\n",
            "Test loss: 0.0050\n",
            "Test loss: 0.0084\n",
            "Test loss: 0.0050\n",
            "Test loss: 0.0084\n",
            "Test loss: 0.0050\n",
            "Test loss: 0.0084\n",
            "Test loss: 0.0050\n",
            "Test loss: 0.0084\n",
            "Test loss: 0.0050\n",
            "Test loss: 0.0084\n",
            "Test loss: 0.0050\n",
            "Test loss: 0.0084\n",
            "Test loss: 0.0050\n",
            "Test loss: 0.0084\n",
            "Test loss: 0.0050\n",
            "Test loss: 0.0084\n",
            "Test loss: 0.0050\n",
            "Test loss: 0.0084\n",
            "Test loss: 0.0050\n",
            "Test loss: 0.0084\n",
            "Test loss: 0.0050\n",
            "Test loss: 0.0084\n",
            "Test loss: 0.0050\n",
            "Test loss: 0.0084\n",
            "Test loss: 0.0050\n",
            "Test loss: 0.0084\n",
            "Test loss: 0.0050\n",
            "Test loss: 0.0084\n",
            "Test loss: 0.0050\n",
            "Test loss: 0.0084\n",
            "Test loss: 0.0050\n",
            "Test loss: 0.0084\n",
            "Test loss: 0.0050\n",
            "Test loss: 0.0084\n",
            "Test loss: 0.0050\n",
            "Test loss: 0.0084\n",
            "Test loss: 0.0050\n",
            "Test loss: 0.0084\n",
            "Test loss: 0.0050\n",
            "Test loss: 0.0084\n",
            "Test loss: 0.0050\n",
            "Test loss: 0.0084\n",
            "Test loss: 0.0050\n",
            "Test loss: 0.0084\n",
            "Test loss: 0.0050\n",
            "Test loss: 0.0084\n",
            "Test loss: 0.0050\n",
            "Test loss: 0.0084\n",
            "Test loss: 0.0050\n",
            "Test loss: 0.0084\n",
            "Test loss: 0.0050\n",
            "Test loss: 0.0084\n",
            "Test loss: 0.0050\n",
            "Test loss: 0.0084\n",
            "Test loss: 0.0050\n",
            "Test loss: 0.0084\n",
            "Test loss: 0.0050\n",
            "Test loss: 0.0084\n",
            "Test loss: 0.0050\n",
            "Test loss: 0.0084\n",
            "Test loss: 0.0050\n",
            "Test loss: 0.0084\n",
            "Test loss: 0.0050\n",
            "Test loss: 0.0084\n",
            "Test loss: 0.0050\n",
            "Test loss: 0.0084\n",
            "Test loss: 0.0050\n",
            "Test loss: 0.0084\n",
            "Test loss: 0.0050\n",
            "Test loss: 0.0084\n",
            "Test loss: 0.0050\n",
            "Test loss: 0.0084\n",
            "Test loss: 0.0050\n",
            "Test loss: 0.0084\n",
            "Test loss: 0.0050\n",
            "Test loss: 0.0084\n",
            "Test loss: 0.0050\n",
            "Test loss: 0.0084\n",
            "Test loss: 0.0050\n",
            "Test loss: 0.0084\n",
            "Test loss: 0.0050\n",
            "Test loss: 0.0084\n",
            "Test loss: 0.0050\n",
            "Test loss: 0.0084\n",
            "Test loss: 0.0050\n",
            "Test loss: 0.0084\n",
            "Test loss: 0.0050\n",
            "Test loss: 0.0084\n",
            "Test loss: 0.0050\n",
            "Test loss: 0.0084\n",
            "Test loss: 0.0050\n",
            "Test loss: 0.0084\n",
            "Test loss: 0.0050\n",
            "Test loss: 0.0084\n",
            "Test loss: 0.0050\n",
            "Test loss: 0.0084\n",
            "Test loss: 0.0050\n",
            "Test loss: 0.0084\n",
            "Test loss: 0.0050\n",
            "Test loss: 0.0084\n",
            "Test loss: 0.0050\n",
            "Test loss: 0.0084\n",
            "Test loss: 0.0050\n",
            "Test loss: 0.0084\n",
            "Test loss: 0.0050\n",
            "Test loss: 0.0084\n",
            "Test loss: 0.0050\n",
            "Test loss: 0.0084\n",
            "Test loss: 0.0050\n",
            "Test loss: 0.0084\n",
            "Test loss: 0.0050\n",
            "Test loss: 0.0084\n",
            "Test loss: 0.0050\n",
            "Test loss: 0.0084\n",
            "Test loss: 0.0050\n",
            "Test loss: 0.0084\n",
            "Test loss: 0.0050\n",
            "Test loss: 0.0084\n",
            "Test loss: 0.0050\n",
            "Test loss: 0.0084\n",
            "Test loss: 0.0050\n",
            "Test loss: 0.0084\n",
            "Test loss: 0.0050\n",
            "Test loss: 0.0084\n",
            "Test loss: 0.0050\n",
            "Test loss: 0.0084\n",
            "Test loss: 0.0050\n",
            "Test loss: 0.0084\n",
            "Test loss: 0.0050\n",
            "Test loss: 0.0084\n",
            "Test loss: 0.0050\n",
            "Test loss: 0.0084\n",
            "Test loss: 0.0050\n",
            "Test loss: 0.0084\n",
            "Test loss: 0.0050\n",
            "Test loss: 0.0084\n",
            "Test loss: 0.0050\n",
            "Test loss: 0.0084\n",
            "Test loss: 0.0050\n",
            "Test loss: 0.0084\n",
            "Test loss: 0.0050\n",
            "Test loss: 0.0084\n",
            "Test loss: 0.0050\n",
            "Test loss: 0.0084\n",
            "Test loss: 0.0050\n",
            "Test loss: 0.0084\n",
            "Test loss: 0.0050\n",
            "Test loss: 0.0084\n",
            "Test loss: 0.0050\n",
            "Test loss: 0.0084\n",
            "Test loss: 0.0050\n",
            "Test loss: 0.0084\n",
            "Test loss: 0.0050\n",
            "Test loss: 0.0084\n",
            "Test loss: 0.0050\n",
            "Test loss: 0.0084\n",
            "Test loss: 0.0050\n",
            "Test loss: 0.0084\n",
            "Test loss: 0.0050\n",
            "Test loss: 0.0084\n",
            "Test loss: 0.0050\n",
            "Test loss: 0.0084\n",
            "Test loss: 0.0050\n",
            "Test loss: 0.0084\n",
            "Test loss: 0.0050\n",
            "Test loss: 0.0084\n",
            "Test loss: 0.0050\n",
            "Test loss: 0.0084\n",
            "Test loss: 0.0050\n",
            "Test loss: 0.0084\n",
            "Test loss: 0.0050\n",
            "Test loss: 0.0084\n",
            "Test loss: 0.0050\n",
            "Test loss: 0.0084\n",
            "Test loss: 0.0050\n",
            "Test loss: 0.0084\n",
            "Test loss: 0.0050\n",
            "Test loss: 0.0084\n",
            "Test loss: 0.0050\n",
            "Test loss: 0.0084\n",
            "Test loss: 0.0050\n",
            "Test loss: 0.0084\n",
            "Test loss: 0.0050\n",
            "Test loss: 0.0084\n",
            "Test loss: 0.0050\n",
            "Test loss: 0.0084\n",
            "Test loss: 0.0050\n",
            "Test loss: 0.0084\n",
            "Test loss: 0.0050\n",
            "Test loss: 0.0084\n",
            "Test loss: 0.0050\n",
            "Test loss: 0.0084\n",
            "Test loss: 0.0050\n",
            "Test loss: 0.0084\n",
            "Test loss: 0.0050\n",
            "Test loss: 0.0084\n",
            "Test loss: 0.0050\n",
            "Test loss: 0.0084\n",
            "Test loss: 0.0050\n",
            "Test loss: 0.0084\n",
            "Test loss: 0.0050\n",
            "Test loss: 0.0084\n",
            "Test loss: 0.0050\n",
            "Test loss: 0.0084\n",
            "Test loss: 0.0050\n",
            "Test loss: 0.0084\n",
            "Test loss: 0.0050\n",
            "Test loss: 0.0084\n",
            "Test loss: 0.0050\n",
            "Test loss: 0.0084\n",
            "Test loss: 0.0050\n",
            "Test loss: 0.0084\n",
            "Test loss: 0.0050\n",
            "Test loss: 0.0084\n",
            "Test loss: 0.0050\n",
            "Test loss: 0.0084\n",
            "Test loss: 0.0050\n",
            "Test loss: 0.0084\n",
            "Test loss: 0.0050\n",
            "Test loss: 0.0084\n",
            "Test loss: 0.0050\n",
            "Test loss: 0.0084\n",
            "Test loss: 0.0050\n",
            "Test loss: 0.0084\n",
            "Test loss: 0.0050\n",
            "Test loss: 0.0084\n",
            "Test loss: 0.0050\n",
            "Test loss: 0.0084\n",
            "Test loss: 0.0050\n",
            "Test loss: 0.0084\n",
            "Test loss: 0.0050\n",
            "Test loss: 0.0084\n",
            "Test loss: 0.0050\n",
            "Test loss: 0.0084\n",
            "Test loss: 0.0050\n",
            "Test loss: 0.0084\n",
            "Test loss: 0.0050\n",
            "Test loss: 0.0084\n",
            "Test loss: 0.0050\n",
            "Test loss: 0.0084\n",
            "Test loss: 0.0050\n",
            "Test loss: 0.0084\n",
            "Test loss: 0.0050\n",
            "Test loss: 0.0084\n",
            "Test loss: 0.0050\n",
            "Test loss: 0.0084\n",
            "Test loss: 0.0050\n",
            "Test loss: 0.0084\n",
            "Test loss: 0.0050\n",
            "Test loss: 0.0084\n",
            "Test loss: 0.0050\n",
            "Test loss: 0.0084\n",
            "Test loss: 0.0050\n",
            "Test loss: 0.0084\n",
            "Test loss: 0.0050\n",
            "Test loss: 0.0084\n",
            "Test loss: 0.0050\n",
            "Test loss: 0.0084\n",
            "Test loss: 0.0050\n",
            "Test loss: 0.0084\n",
            "Test loss: 0.0050\n",
            "Test loss: 0.0084\n",
            "Test loss: 0.0050\n",
            "Test loss: 0.0084\n",
            "Test loss: 0.0050\n",
            "Test loss: 0.0084\n",
            "Test loss: 0.0050\n",
            "Test loss: 0.0084\n",
            "Test loss: 0.0050\n",
            "Test loss: 0.0084\n",
            "Test loss: 0.0050\n",
            "Test loss: 0.0084\n",
            "Test loss: 0.0050\n",
            "Test loss: 0.0084\n",
            "Test loss: 0.0050\n",
            "Test loss: 0.0084\n",
            "Test loss: 0.0050\n",
            "Test loss: 0.0084\n",
            "Test loss: 0.0050\n",
            "Test loss: 0.0084\n",
            "Test loss: 0.0050\n",
            "Test loss: 0.0084\n",
            "Test loss: 0.0050\n",
            "Test loss: 0.0084\n",
            "Test loss: 0.0050\n",
            "Test loss: 0.0084\n",
            "Test loss: 0.0050\n",
            "Test loss: 0.0084\n",
            "Test loss: 0.0050\n",
            "Test loss: 0.0084\n",
            "Test loss: 0.0050\n",
            "Test loss: 0.0084\n",
            "Test loss: 0.0050\n",
            "Test loss: 0.0084\n",
            "Test loss: 0.0050\n",
            "Test loss: 0.0084\n",
            "Test loss: 0.0050\n",
            "Test loss: 0.0084\n",
            "Test loss: 0.0050\n",
            "Test loss: 0.0084\n",
            "Test loss: 0.0050\n",
            "Test loss: 0.0084\n",
            "Test loss: 0.0050\n",
            "Test loss: 0.0084\n",
            "Test loss: 0.0050\n",
            "Test loss: 0.0084\n",
            "Test loss: 0.0050\n",
            "Test loss: 0.0084\n",
            "Test loss: 0.0050\n",
            "Test loss: 0.0084\n",
            "Test loss: 0.0050\n",
            "Test loss: 0.0084\n",
            "Test loss: 0.0050\n",
            "Test loss: 0.0084\n",
            "Test loss: 0.0050\n",
            "Test loss: 0.0084\n",
            "Test loss: 0.0050\n",
            "Test loss: 0.0084\n",
            "Test loss: 0.0050\n",
            "Test loss: 0.0084\n",
            "Test loss: 0.0050\n",
            "Test loss: 0.0084\n",
            "Test loss: 0.0050\n",
            "Test loss: 0.0084\n",
            "Test loss: 0.0050\n",
            "Test loss: 0.0084\n",
            "Test loss: 0.0050\n",
            "Test loss: 0.0084\n",
            "Test loss: 0.0050\n",
            "Test loss: 0.0084\n",
            "Test loss: 0.0050\n",
            "Test loss: 0.0084\n",
            "Test loss: 0.0050\n",
            "Test loss: 0.0084\n",
            "Test loss: 0.0050\n",
            "Test loss: 0.0084\n",
            "Test loss: 0.0050\n",
            "Test loss: 0.0084\n",
            "Test loss: 0.0050\n",
            "Test loss: 0.0084\n",
            "Test loss: 0.0050\n",
            "Test loss: 0.0084\n",
            "Test loss: 0.0050\n",
            "Test loss: 0.0084\n",
            "Test loss: 0.0050\n",
            "Test loss: 0.0084\n",
            "Test loss: 0.0050\n",
            "Test loss: 0.0084\n",
            "Test loss: 0.0050\n",
            "Test loss: 0.0084\n",
            "Test loss: 0.0050\n",
            "Test loss: 0.0084\n",
            "Test loss: 0.0050\n",
            "Test loss: 0.0084\n",
            "Test loss: 0.0050\n",
            "Test loss: 0.0084\n",
            "Test loss: 0.0050\n",
            "Test loss: 0.0084\n",
            "Test loss: 0.0050\n",
            "Test loss: 0.0084\n",
            "Test loss: 0.0050\n",
            "Test loss: 0.0084\n",
            "Test loss: 0.0050\n",
            "Test loss: 0.0084\n",
            "Test loss: 0.0050\n",
            "Test loss: 0.0084\n",
            "Test loss: 0.0050\n",
            "Test loss: 0.0084\n",
            "Test loss: 0.0050\n",
            "Test loss: 0.0084\n",
            "Test loss: 0.0050\n",
            "Test loss: 0.0084\n",
            "Test loss: 0.0050\n",
            "Test loss: 0.0084\n",
            "Test loss: 0.0050\n",
            "Test loss: 0.0084\n",
            "Test loss: 0.0050\n",
            "Test loss: 0.0084\n",
            "Test loss: 0.0050\n",
            "Test loss: 0.0084\n",
            "Test loss: 0.0050\n",
            "Test loss: 0.0084\n",
            "Test loss: 0.0050\n",
            "Test loss: 0.0084\n",
            "Test loss: 0.0050\n",
            "Test loss: 0.0084\n",
            "Test loss: 0.0050\n",
            "Test loss: 0.0084\n",
            "Test loss: 0.0050\n",
            "Test loss: 0.0084\n",
            "Test loss: 0.0050\n",
            "Test loss: 0.0084\n",
            "Test loss: 0.0050\n",
            "Test loss: 0.0084\n",
            "Test loss: 0.0050\n",
            "Test loss: 0.0084\n",
            "Test loss: 0.0050\n",
            "Test loss: 0.0084\n",
            "Test loss: 0.0050\n",
            "Test loss: 0.0084\n",
            "Test loss: 0.0050\n",
            "Test loss: 0.0084\n",
            "Test loss: 0.0050\n",
            "Test loss: 0.0084\n",
            "Test loss: 0.0050\n",
            "Test loss: 0.0084\n",
            "Test loss: 0.0050\n",
            "Test loss: 0.0084\n",
            "Test loss: 0.0050\n",
            "Test loss: 0.0084\n",
            "Test loss: 0.0050\n",
            "Test loss: 0.0084\n",
            "Test loss: 0.0050\n",
            "Test loss: 0.0084\n",
            "Test loss: 0.0050\n",
            "Test loss: 0.0084\n",
            "Test loss: 0.0050\n",
            "Test loss: 0.0084\n",
            "Test loss: 0.0050\n",
            "Test loss: 0.0084\n",
            "Test loss: 0.0050\n",
            "Test loss: 0.0084\n",
            "Test loss: 0.0050\n",
            "Test loss: 0.0084\n",
            "Test loss: 0.0050\n",
            "Test loss: 0.0084\n",
            "Test loss: 0.0050\n",
            "Test loss: 0.0084\n",
            "Test loss: 0.0050\n",
            "Test loss: 0.0084\n",
            "Test loss: 0.0050\n",
            "Test loss: 0.0084\n",
            "Test loss: 0.0050\n",
            "Test loss: 0.0084\n",
            "Test loss: 0.0050\n",
            "Test loss: 0.0084\n",
            "Test loss: 0.0050\n",
            "Test loss: 0.0084\n",
            "Test loss: 0.0050\n",
            "Test loss: 0.0084\n",
            "Test loss: 0.0050\n",
            "Test loss: 0.0084\n",
            "Test loss: 0.0050\n",
            "Test loss: 0.0084\n",
            "Test loss: 0.0050\n",
            "Test loss: 0.0084\n",
            "Test loss: 0.0050\n",
            "Test loss: 0.0084\n",
            "Test loss: 0.0050\n",
            "Test loss: 0.0084\n",
            "Test loss: 0.0050\n",
            "Test loss: 0.0084\n",
            "Test loss: 0.0050\n",
            "Test loss: 0.0084\n",
            "Test loss: 0.0050\n",
            "Test loss: 0.0084\n",
            "Test loss: 0.0050\n",
            "Test loss: 0.0084\n",
            "Test loss: 0.0050\n",
            "Test loss: 0.0084\n",
            "Test loss: 0.0050\n",
            "Test loss: 0.0084\n",
            "Test loss: 0.0050\n",
            "Test loss: 0.0084\n",
            "Test loss: 0.0050\n",
            "Test loss: 0.0084\n",
            "Test loss: 0.0050\n",
            "Test loss: 0.0084\n",
            "Test loss: 0.0050\n",
            "Test loss: 0.0084\n",
            "Test loss: 0.0050\n",
            "Test loss: 0.0084\n",
            "Test loss: 0.0050\n",
            "Test loss: 0.0084\n",
            "Test loss: 0.0050\n",
            "Test loss: 0.0084\n",
            "Test loss: 0.0050\n",
            "Test loss: 0.0084\n",
            "Test loss: 0.0050\n",
            "Test loss: 0.0084\n",
            "Test loss: 0.0050\n",
            "Test loss: 0.0084\n",
            "Test loss: 0.0050\n",
            "Test loss: 0.0084\n",
            "Test loss: 0.0050\n",
            "Test loss: 0.0084\n",
            "Test loss: 0.0050\n",
            "Test loss: 0.0084\n",
            "Test loss: 0.0050\n",
            "Test loss: 0.0084\n",
            "Test loss: 0.0050\n",
            "Test loss: 0.0084\n",
            "Test loss: 0.0050\n",
            "Test loss: 0.0084\n",
            "Test loss: 0.0050\n",
            "Test loss: 0.0084\n",
            "Test loss: 0.0050\n",
            "Test loss: 0.0084\n",
            "Test loss: 0.0050\n",
            "Test loss: 0.0084\n",
            "Test loss: 0.0050\n",
            "Test loss: 0.0084\n",
            "Test loss: 0.0050\n",
            "Test loss: 0.0084\n",
            "Test loss: 0.0050\n",
            "Test loss: 0.0084\n",
            "Test loss: 0.0050\n",
            "Test loss: 0.0084\n",
            "Test loss: 0.0050\n",
            "Test loss: 0.0084\n",
            "Test loss: 0.0050\n",
            "Test loss: 0.0084\n",
            "Test loss: 0.0050\n",
            "Test loss: 0.0084\n",
            "Test loss: 0.0050\n",
            "Test loss: 0.0084\n",
            "Test loss: 0.0050\n",
            "Test loss: 0.0084\n",
            "Test loss: 0.0050\n",
            "Test loss: 0.0084\n",
            "Test loss: 0.0050\n",
            "Test loss: 0.0084\n",
            "Test loss: 0.0050\n",
            "Test loss: 0.0084\n",
            "Test loss: 0.0050\n",
            "Test loss: 0.0084\n",
            "Test loss: 0.0050\n",
            "Test loss: 0.0084\n",
            "Test loss: 0.0050\n",
            "Test loss: 0.0084\n",
            "Test loss: 0.0050\n",
            "Test loss: 0.0084\n",
            "Test loss: 0.0050\n",
            "Test loss: 0.0084\n"
          ]
        },
        {
          "output_type": "execute_result",
          "data": {
            "text/plain": [
              "[Parameter containing:\n",
              " tensor([0.6990], requires_grad=True),\n",
              " Parameter containing:\n",
              " tensor([0.3093], requires_grad=True)]"
            ]
          },
          "metadata": {},
          "execution_count": 143
        }
      ]
    },
    {
      "cell_type": "code",
      "source": [
        "y_pred\n",
        "loss, test_loss"
      ],
      "metadata": {
        "colab": {
          "base_uri": "https://localhost:8080/"
        },
        "id": "FWkIBpY_CLzX",
        "outputId": "e8882c3d-9ed8-456f-c22d-c294b31997ab"
      },
      "execution_count": 144,
      "outputs": [
        {
          "output_type": "execute_result",
          "data": {
            "text/plain": [
              "(tensor(0.0026, grad_fn=<MeanBackward0>), tensor(0.0084))"
            ]
          },
          "metadata": {},
          "execution_count": 144
        }
      ]
    },
    {
      "cell_type": "code",
      "metadata": {
        "colab": {
          "base_uri": "https://localhost:8080/",
          "height": 489
        },
        "id": "b22e84cb",
        "outputId": "587c31a7-4efa-4a2d-bc4c-a60973321a19"
      },
      "source": [
        "# Plot the loss curve\n",
        "import numpy as np\n",
        "\n",
        "plt.plot(epoch_count, np.array(torch.tensor(loss_values).numpy()) ,label = \"Train Loss\")\n",
        "plt.plot(epoch_count, np.array(torch.tensor(test_loss_values).numpy()), label = \"Test Loss\")\n",
        "plt.title(\"Training and Test Loss Curves\")\n",
        "plt.ylabel(\"Loss\")\n",
        "plt.xlabel(\"Epochs\")\n",
        "plt.legend()"
      ],
      "execution_count": 147,
      "outputs": [
        {
          "output_type": "execute_result",
          "data": {
            "text/plain": [
              "<matplotlib.legend.Legend at 0x7d2da3a123f0>"
            ]
          },
          "metadata": {},
          "execution_count": 147
        },
        {
          "output_type": "display_data",
          "data": {
            "text/plain": [
              "<Figure size 640x480 with 1 Axes>"
            ],
            "image/png": "[encoded data removed]"
          },
          "metadata": {}
        }
      ]
    },
    {
      "cell_type": "code",
      "source": [
        "plot_predictions(predictions=test_preds)"
      ],
      "metadata": {
        "colab": {
          "base_uri": "https://localhost:8080/",
          "height": 599
        },
        "id": "4DF0Vta6D5VK",
        "outputId": "0c97fb34-a143-48cb-d0af-e6a95f143bee"
      },
      "execution_count": 146,
      "outputs": [
        {
          "output_type": "display_data",
          "data": {
            "text/plain": [
              "<Figure size 1000x700 with 1 Axes>"
            ],
            "image/png": "[encoded data removed]"
          },
          "metadata": {}
        }
      ]
    },
    {
      "cell_type": "code",
      "source": [],
      "metadata": {
        "id": "5N_YX8CxD-JF"
      },
      "execution_count": 146,
      "outputs": []
    }
  ]
}