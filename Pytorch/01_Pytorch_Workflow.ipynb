{
  "nbformat": 4,
  "nbformat_minor": 0,
  "metadata": {
    "colab": {
      "provenance": [],
      "authorship_tag": "ABX9TyNMmkcx+QUo6xrdrs8inlW7",
      "include_colab_link": true
    },
    "kernelspec": {
      "name": "python3",
      "display_name": "Python 3"
    },
    "language_info": {
      "name": "python"
    }
  },
  "cells": [
    {
      "cell_type": "markdown",
      "metadata": {
        "id": "view-in-github",
        "colab_type": "text"
      },
      "source": [
        "<a href=\"https://colab.research.google.com/github/prasa12/MyPython-Stuff/blob/master/Pytorch/01_Pytorch_Workflow.ipynb\" target=\"_parent\"><img src=\"https://colab.research.google.com/assets/colab-badge.svg\" alt=\"Open In Colab\"/></a>"
      ]
    },
    {
      "cell_type": "markdown",
      "source": [
        "# Pytorch Workflow\n",
        "\n",
        "Lets explore Pytorch end to end workflow"
      ],
      "metadata": {
        "id": "8GRM3_IqPvtM"
      }
    },
    {
      "cell_type": "code",
      "source": [
        "what_were_covering = {1:\"data(prepare and load)\",\n",
        "                      2: \"Build Model\",\n",
        "                      3: \"Making predictions and evaluating a model(inference)\",\n",
        "                      4: \"Save and loading the Model\",\n",
        "                      5: \"Putting all together\"}\n",
        "\n",
        "what_were_covering"
      ],
      "metadata": {
        "colab": {
          "base_uri": "https://localhost:8080/"
        },
        "id": "wSllpWqmSUkk",
        "outputId": "5d7b7a98-2cd1-4a11-81e3-2e1803cd59a9"
      },
      "execution_count": 1,
      "outputs": [
        {
          "output_type": "execute_result",
          "data": {
            "text/plain": [
              "{1: 'data(prepare and load)',\n",
              " 2: 'Build Model',\n",
              " 3: 'Making predictions and evaluating a model(inference)',\n",
              " 4: 'Save and loading the Model',\n",
              " 5: 'Putting all together'}"
            ]
          },
          "metadata": {},
          "execution_count": 1
        }
      ]
    },
    {
      "cell_type": "code",
      "source": [
        "import torch\n",
        "from torch import nn\n",
        "import matplotlib.pyplot as plt\n",
        "\n",
        "# Check Pytorch versio\n",
        "torch.__version__"
      ],
      "metadata": {
        "id": "yNKkPk9US3uV",
        "colab": {
          "base_uri": "https://localhost:8080/",
          "height": 35
        },
        "outputId": "dccbe2ea-b1bf-45e5-bbae-015f512e8e08"
      },
      "execution_count": 7,
      "outputs": [
        {
          "output_type": "execute_result",
          "data": {
            "text/plain": [
              "'2.8.0+cu126'"
            ],
            "application/vnd.google.colaboratory.intrinsic+json": {
              "type": "string"
            }
          },
          "metadata": {},
          "execution_count": 7
        }
      ]
    },
    {
      "cell_type": "markdown",
      "source": [
        "from typing import Text\n",
        "## 1. Data (preparing and loading)\n",
        "\n",
        "Data can be almost anything in machine learning\n",
        "\n",
        "* Excel Spreadsheet\n",
        "* Images\n",
        "* Videos\n",
        "* Audio\n",
        "* DNA\n",
        "* Text\n",
        "\n",
        "Machine is a game of 2 parts\n",
        "1. Get data into numerical representation\n",
        "2. Build a model to learn patterns in the Numerical representation\n",
        "\n",
        "We will use a linear regression formula to make a straight line with known **parameters**"
      ],
      "metadata": {
        "id": "M0HD73CxlgBL"
      }
    },
    {
      "cell_type": "code",
      "source": [
        "# Create Known parameters\n",
        "weight = 0.7\n",
        "bias = 0.3\n",
        "\n",
        "# Create\n",
        "start = 0\n",
        "end = 1\n",
        "step = 0.02\n",
        "\n",
        "X = torch.arange(start,end, step).unsqueeze(dim=1)\n",
        "y = weight*X+bias\n",
        "\n",
        "X[:10],y[:10]"
      ],
      "metadata": {
        "colab": {
          "base_uri": "https://localhost:8080/"
        },
        "id": "tAfqv4SJnM24",
        "outputId": "9ebf6891-b329-4454-ddd8-579df4cc28f6"
      },
      "execution_count": 11,
      "outputs": [
        {
          "output_type": "execute_result",
          "data": {
            "text/plain": [
              "(tensor([[0.0000],\n",
              "         [0.0200],\n",
              "         [0.0400],\n",
              "         [0.0600],\n",
              "         [0.0800],\n",
              "         [0.1000],\n",
              "         [0.1200],\n",
              "         [0.1400],\n",
              "         [0.1600],\n",
              "         [0.1800]]),\n",
              " tensor([[0.3000],\n",
              "         [0.3140],\n",
              "         [0.3280],\n",
              "         [0.3420],\n",
              "         [0.3560],\n",
              "         [0.3700],\n",
              "         [0.3840],\n",
              "         [0.3980],\n",
              "         [0.4120],\n",
              "         [0.4260]]))"
            ]
          },
          "metadata": {},
          "execution_count": 11
        }
      ]
    },
    {
      "cell_type": "code",
      "source": [
        "len(X),len(y)"
      ],
      "metadata": {
        "colab": {
          "base_uri": "https://localhost:8080/"
        },
        "id": "GWXkcjpUmVKR",
        "outputId": "69c0b42c-52ca-4610-f1d7-44fc8a3f9e50"
      },
      "execution_count": 13,
      "outputs": [
        {
          "output_type": "execute_result",
          "data": {
            "text/plain": [
              "(50, 50)"
            ]
          },
          "metadata": {},
          "execution_count": 13
        }
      ]
    },
    {
      "cell_type": "code",
      "source": [
        "## Splitting the data into training and testing sets\n",
        "\n",
        "# Create a train/test split\n",
        "train_split = int(0.8*len(X))\n"
      ],
      "metadata": {
        "id": "id24E7aeoXKY"
      },
      "execution_count": null,
      "outputs": []
    }
  ]
}