{
 "cells": [
  {
   "cell_type": "code",
   "execution_count": 17,
   "id": "10609dcc-0d10-4993-b8fc-0706b023c166",
   "metadata": {},
   "outputs": [
    {
     "name": "stdout",
     "output_type": "stream",
     "text": [
      "Blank List: \n",
      "[1, 2, 'Geeks']\n"
     ]
    }
   ],
   "source": [
    "List = [1,2,\"Geeks\"];\n",
    "print(\"Blank List: \")\n",
    "print(List)"
   ]
  },
  {
   "cell_type": "code",
   "execution_count": 3,
   "id": "fc8a9a0d-f133-4918-b771-a89524f4dc21",
   "metadata": {},
   "outputs": [
    {
     "name": "stdout",
     "output_type": "stream",
     "text": [
      "\n",
      "List with the use of Numbers: \n",
      "[1, 2, 4, 4, 3, 3, 3, 6, 5]\n",
      "\n",
      "List with the use of Mixed Values:  [1, 2, 'Geeks', 4, 'For', 6, 'Geeks']\n",
      "[1, 2, 'Geeks', 4, 'For', 6, 'Geeks']\n"
     ]
    }
   ],
   "source": [
    "List = [1, 2, 4, 4, 3, 3, 3, 6, 5]\n",
    "print(\"\\nList with the use of Numbers: \")\n",
    "print(List)\n",
    "\n",
    "# Creating a List with\n",
    "# mixed type of values\n",
    "# (Having numbers and strings)\n",
    "List = [1, 2, 'Geeks', 4, 'For', 6, 'Geeks']\n",
    "print(\"\\nList with the use of Mixed Values: \",List)\n",
    "print(List)"
   ]
  },
  {
   "cell_type": "raw",
   "id": "ffebc2ac-9438-4c3f-9e02-c489d6ea3089",
   "metadata": {},
   "source": [
    "Accessing Elements in the List"
   ]
  },
  {
   "cell_type": "code",
   "execution_count": 5,
   "id": "605b2b38-1dff-48f0-85ef-ff3a9b2e4b9f",
   "metadata": {},
   "outputs": [
    {
     "name": "stdout",
     "output_type": "stream",
     "text": [
      "[10, 20, 30, 40, 50]\n",
      "40\n",
      "20\n",
      "50\n"
     ]
    }
   ],
   "source": [
    "l = [10, 20, 30, 40, 50]\n",
    "print(l)\n",
    "print(l[3])\n",
    "print(l[1])\n",
    "print(l[-1])"
   ]
  },
  {
   "cell_type": "code",
   "execution_count": 11,
   "id": "f36ed1f9-acbe-4256-aa03-0ec8d839d2c8",
   "metadata": {},
   "outputs": [
    {
     "name": "stdout",
     "output_type": "stream",
     "text": [
      "For\n",
      "Geeks\n"
     ]
    }
   ],
   "source": [
    "List = [['Geeks','For'],['Geeks1']]\n",
    "print(List[0][1])\n",
    "print(List[0][0])"
   ]
  },
  {
   "cell_type": "code",
   "execution_count": 13,
   "id": "0d9417a5-fcf0-447c-8924-9813add4bf42",
   "metadata": {},
   "outputs": [
    {
     "name": "stdout",
     "output_type": "stream",
     "text": [
      "Accessing element using negative indexing\n",
      "Geeks\n",
      "For\n"
     ]
    }
   ],
   "source": [
    "List = [1, 2, 'Geeks', 4, 'For', 6, 'Geeks']\n",
    "\n",
    "# accessing an element using\n",
    "# negative indexing\n",
    "print(\"Accessing element using negative indexing\")\n",
    "\n",
    "# print the last element of list\n",
    "print(List[-1])\n",
    "\n",
    "# print the third last element of list\n",
    "print(List[-3])\n"
   ]
  },
  {
   "cell_type": "code",
   "execution_count": 21,
   "id": "f2ba1f1e-8f4b-4f9f-87a8-4408a13ac9e1",
   "metadata": {},
   "outputs": [
    {
     "name": "stdin",
     "output_type": "stream",
     "text": [
      "Enter elements (Space-separated):  Prashanti is a computer vision engineer\n"
     ]
    },
    {
     "name": "stdout",
     "output_type": "stream",
     "text": [
      "The list is: ['Prashanti', 'is', 'a', 'computer', 'vision', 'engineer']\n"
     ]
    }
   ],
   "source": [
    "# Taking input of a python list\n",
    "string = input(\"Enter elements (Space-separated): \")\n",
    "last = string.split();\n",
    "print('The list is:', last)"
   ]
  },
  {
   "cell_type": "code",
   "execution_count": 55,
   "id": "4171f5fe-4ecd-460c-a873-a464736694d3",
   "metadata": {},
   "outputs": [
    {
     "name": "stdin",
     "output_type": "stream",
     "text": [
      "Enter the size of list :  4\n",
      "Enter the integerelements: 7 6 5 4\n"
     ]
    },
    {
     "name": "stdout",
     "output_type": "stream",
     "text": [
      "The list is: [7, 6, 5, 4]\n"
     ]
    }
   ],
   "source": [
    "n = int(input(\"Enter the size of list : \"))\n",
    "# store integrs in a list using map,\n",
    "# split and strip functions\n",
    "lst = list(map(int, input(\"Enter the integer\\\n",
    "elements:\").strip().split()))[:n]\n",
    "print('The list is:', lst) "
   ]
  },
  {
   "cell_type": "code",
   "execution_count": 2,
   "id": "0a4c47b7-a673-4f74-91ec-070a36990c9f",
   "metadata": {},
   "outputs": [
    {
     "name": "stdout",
     "output_type": "stream",
     "text": [
      "[10, 30, 40, 50, 60, 70, 80]\n"
     ]
    }
   ],
   "source": [
    "l = [10, 20, 30, 40, 50, 60, 70, 80]\n",
    "l.remove(20)\n",
    "print(l)"
   ]
  },
  {
   "cell_type": "code",
   "execution_count": 4,
   "id": "d8b2cec9-a3b9-4bc4-8228-b10c2dc5f4df",
   "metadata": {},
   "outputs": [
    {
     "name": "stdout",
     "output_type": "stream",
     "text": [
      "80\n"
     ]
    }
   ],
   "source": [
    "print(l.pop())\n"
   ]
  },
  {
   "cell_type": "code",
   "execution_count": 6,
   "id": "e8b7a41a-eae1-487f-ab99-b55a87f2b308",
   "metadata": {},
   "outputs": [
    {
     "name": "stdout",
     "output_type": "stream",
     "text": [
      "[10, 30, 40, 50, 60, 70]\n"
     ]
    }
   ],
   "source": [
    "print(l)"
   ]
  },
  {
   "cell_type": "code",
   "execution_count": 8,
   "id": "47bff87b-79e1-4957-bb13-5ed1f3426bb6",
   "metadata": {},
   "outputs": [
    {
     "name": "stdout",
     "output_type": "stream",
     "text": [
      "40\n"
     ]
    }
   ],
   "source": [
    "print(l.pop(2))"
   ]
  },
  {
   "cell_type": "code",
   "execution_count": 10,
   "id": "7d217fbb-7939-46be-aecf-767758ff903e",
   "metadata": {},
   "outputs": [
    {
     "name": "stdout",
     "output_type": "stream",
     "text": [
      "[10, 30, 50, 60, 70]\n"
     ]
    }
   ],
   "source": [
    "print(l)"
   ]
  },
  {
   "cell_type": "code",
   "execution_count": 16,
   "id": "1fa9c6b8-79a7-42ab-b6df-c61894c79aa3",
   "metadata": {},
   "outputs": [],
   "source": [
    "del l[0:3]"
   ]
  },
  {
   "cell_type": "code",
   "execution_count": 18,
   "id": "c0490a3c-9f12-49a9-b4b9-1b3500dd0baf",
   "metadata": {},
   "outputs": [
    {
     "name": "stdout",
     "output_type": "stream",
     "text": [
      "[70]\n"
     ]
    }
   ],
   "source": [
    "print(l)"
   ]
  },
  {
   "cell_type": "code",
   "execution_count": 24,
   "id": "65e6d5c2-6f49-4a22-8087-d1e12a44a233",
   "metadata": {},
   "outputs": [
    {
     "name": "stdout",
     "output_type": "stream",
     "text": [
      "average of list =  33.5\n"
     ]
    }
   ],
   "source": [
    "def Average(lst):\n",
    "    return sum(lst)/len(lst)\n",
    "\n",
    "lst = [15,9,40,30,40,67]\n",
    "average = Average(lst)\n",
    "print(\"average of list = \", round(average,2))"
   ]
  },
  {
   "cell_type": "code",
   "execution_count": 2,
   "id": "99630e73-101f-436d-ab7b-17cec984016e",
   "metadata": {},
   "outputs": [
    {
     "name": "stdout",
     "output_type": "stream",
     "text": [
      "average of the list =  9.5\n"
     ]
    }
   ],
   "source": [
    "def Average(lst):\n",
    "    sum_of_lst = 0;\n",
    "    for i in range(len(lst)):\n",
    "        sum_of_lst +=lst[i]\n",
    "    average = sum_of_lst/len(lst)\n",
    "    return average\n",
    "\n",
    "lst = [14,15,16,3,4,5]\n",
    "avg = Average(lst)\n",
    "print(\"average of the list = \",round(avg,2))"
   ]
  },
  {
   "cell_type": "code",
   "execution_count": 12,
   "id": "109a8594-ab58-4aad-973e-6dd85cf23c98",
   "metadata": {},
   "outputs": [
    {
     "data": {
      "text/plain": [
       "([14, 2, 4, 6], [3, 5])"
      ]
     },
     "execution_count": 12,
     "metadata": {},
     "output_type": "execute_result"
    }
   ],
   "source": [
    "def getEvenOdd(l):\n",
    "    even = []\n",
    "    odd = []\n",
    "    for x in l:\n",
    "        if x%2==0:\n",
    "            even.append(x)\n",
    "        else:\n",
    "            odd.append(x)\n",
    "            \n",
    "    return even,odd\n",
    "\n",
    "l = [14,2,3,4,5,6]\n",
    "getEvenOdd(l)\n",
    "\n"
   ]
  },
  {
   "cell_type": "code",
   "execution_count": 2,
   "id": "bd63d7d1-3fed-44f9-827b-d1f8c2275ce1",
   "metadata": {},
   "outputs": [
    {
     "data": {
      "text/plain": [
       "[20, 20, 20, 20]"
      ]
     },
     "execution_count": 2,
     "metadata": {},
     "output_type": "execute_result"
    }
   ],
   "source": [
    "def getSmaller(l,x):\n",
    "    res = [];\n",
    "    for i in l:\n",
    "        if i<x:\n",
    "            res.append(x)\n",
    "    return res\n",
    "\n",
    "l = [7,6,3,2,80,40];\n",
    "x = 20;\n",
    "getSmaller(l,x)"
   ]
  },
  {
   "cell_type": "code",
   "execution_count": 2,
   "id": "88069a8b-cbee-47d8-82a0-d1aa6048ad49",
   "metadata": {},
   "outputs": [
    {
     "name": "stdout",
     "output_type": "stream",
     "text": [
      "Full slice: [10, 20, 30, 40, 50, 60, 70]\n",
      "Slice with start=2: [30, 40, 50, 60, 70]\n",
      "Slice with stop=4: [10, 20, 30, 40]\n",
      "Slice with step=2: [10, 30, 50, 70]\n",
      "Slice with -ve step: [50, 40, 30, 20, 10]\n"
     ]
    }
   ],
   "source": [
    "# Initialize list\n",
    "my_list = [10, 20, 30, 40, 50, 60, 70]\n",
    "\n",
    "# 1. Slicing without start, stop, and step (returns the entire list)\n",
    "print(\"Full slice:\", my_list[:])\n",
    "\n",
    "# 2. Slicing with start (from index 2 to the end)\n",
    "print(\"Slice with start=2:\", my_list[2:])\n",
    "\n",
    "# 3. Slicing with stop (from beginning to index 4)\n",
    "print(\"Slice with stop=4:\", my_list[:4])\n",
    "\n",
    "# 4. Slicing with step (every second element)\n",
    "print(\"Slice with step=2:\", my_list[0:7:2])\n",
    "\n",
    "# 5. Slicing with negative step (reversing the list)\n",
    "print(\"Slice with -ve step:\", my_list[-3:-8:-1])\n"
   ]
  },
  {
   "cell_type": "code",
   "execution_count": 8,
   "id": "1f06b9fb-5afd-4517-b5d1-296a7d1f38aa",
   "metadata": {},
   "outputs": [
    {
     "name": "stdout",
     "output_type": "stream",
     "text": [
      "False\n",
      "True\n",
      "True\n"
     ]
    }
   ],
   "source": [
    "l1 = [10,20,30];\n",
    "l2 = l1[:]\n",
    "t1 = (10,20,30);\n",
    "t2 = t1[:];\n",
    "s1 = \"geeks\"\n",
    "s2 = s1[:]\n",
    "print(l1 is l2)\n",
    "print(t1 is t2)\n",
    "print(s1 is s2)"
   ]
  },
  {
   "cell_type": "code",
   "execution_count": 10,
   "id": "22c33bf7-b31d-40e7-9450-86b35a255078",
   "metadata": {},
   "outputs": [
    {
     "name": "stdout",
     "output_type": "stream",
     "text": [
      "[2, 4]\n",
      "[1, 3, 5]\n"
     ]
    }
   ],
   "source": [
    "# Using list Comprehensions\n",
    "l = [1,2,3,4,5]\n",
    "l1 = [x for x in l if x%2 == 0]\n",
    "print(l1)\n",
    "\n",
    "l2 = [x for x in l if x%2!=0]\n",
    "print(l2)"
   ]
  },
  {
   "cell_type": "code",
   "execution_count": 18,
   "id": "b64d3140-042e-4dd9-b8be-b6f38196d75b",
   "metadata": {},
   "outputs": [
    {
     "name": "stdout",
     "output_type": "stream",
     "text": [
      "{0: 'ID0', 1: 'ID1', 2: 'ID2', 3: 'ID3', 4: 'ID4'}\n",
      "{101: 'gfg', 103: 'ide', 102: 'course'}\n",
      "{101: 'gfg', 103: 'ide', 102: 'course'}\n"
     ]
    }
   ],
   "source": [
    "# Disctionary Comprehensions\n",
    "l1 = [1,3,4,2,5]\n",
    "d1 = {x:x**3 for x in l1}\n",
    "d2 = {x:f\"ID{x}\" for x in range(5)}\n",
    "print(d2)\n",
    "\n",
    "l2 = [101,103,102]\n",
    "l3 = ['gfg','ide','course']\n",
    "d3 = {l2[i]:l3[i] for i in range(len(l2))}\n",
    "print(d3)\n",
    "\n",
    "d4 = dict(zip(l2,l3))\n",
    "print(d4)"
   ]
  },
  {
   "cell_type": "code",
   "execution_count": 20,
   "id": "a9efb689-01f4-4849-94bc-c54f26053542",
   "metadata": {},
   "outputs": [
    {
     "name": "stdout",
     "output_type": "stream",
     "text": [
      "{10, 4, 20}\n",
      "{3, 7}\n"
     ]
    }
   ],
   "source": [
    "# Set Comprehensions\n",
    "l = {10,20,3,4,10,20,7,3}\n",
    "s1 = {x for x in l if x%2==0}\n",
    "s2 = {x for x in l if x%2!=0}\n",
    "print(s1)\n",
    "print(s2)"
   ]
  },
  {
   "cell_type": "code",
   "execution_count": 22,
   "id": "e3fe626a-e45d-4f6d-928d-6c86166bbc5e",
   "metadata": {},
   "outputs": [
    {
     "name": "stdout",
     "output_type": "stream",
     "text": [
      "Output Set using set comprehensions: {2, 4, 6}\n"
     ]
    }
   ],
   "source": [
    "# Using Set comprehensions\n",
    "# for constructing output set\n",
    "\n",
    "input_list = [1, 2, 3, 4, 4, 5, 6, 6, 6, 7, 7]\n",
    "\n",
    "set_using_comp = {var for var in input_list if var % 2 == 0}\n",
    "\n",
    "print(\"Output Set using set comprehensions:\",\n",
    "\t\t\t\t\t\t\tset_using_comp)"
   ]
  },
  {
   "cell_type": "code",
   "execution_count": 24,
   "id": "017d2b27-cb9f-4a03-a036-5eef584be5c1",
   "metadata": {},
   "outputs": [
    {
     "name": "stdout",
     "output_type": "stream",
     "text": [
      "{'gfg': 101, 'practice': 103, 'ide': 102}\n"
     ]
    }
   ],
   "source": [
    "d1 = {101:'gfg',103:'practice',102:'ide'}\n",
    "d2 = {v:k for (k,v) in d1.items() }\n",
    "\n",
    "print(d2)"
   ]
  },
  {
   "cell_type": "code",
   "execution_count": 26,
   "id": "35499580-1a1c-4fd1-953f-29107250dfd7",
   "metadata": {},
   "outputs": [
    {
     "name": "stdout",
     "output_type": "stream",
     "text": [
      "{'gfg': 101, 'practice': 103, 'ide': 102}\n"
     ]
    }
   ],
   "source": [
    "# Inverting Dictionary\n",
    "d1 = {101:'gfg',103:'practice',102:'ide'}\n",
    "d2 = {v:k for (k,v) in d1.items()}\n",
    "print(d2)"
   ]
  },
  {
   "cell_type": "code",
   "execution_count": 34,
   "id": "e66aefe9-1e35-4f9b-89e8-2daa0c959c84",
   "metadata": {},
   "outputs": [
    {
     "name": "stdout",
     "output_type": "stream",
     "text": [
      "Output values using generator comprehensions: 2 4 4 6 "
     ]
    }
   ],
   "source": [
    "# Generator Comprehensions\n",
    "input_list = [1,2,3,4,4,5,6,7,7];\n",
    "output_gen = (var for var in input_list if var%2==0)\n",
    "print(\"Output values using generator comprehensions:\",end = ' ')\n",
    "for var in output_gen:\n",
    "    print(var, end=' ')"
   ]
  },
  {
   "cell_type": "code",
   "execution_count": 38,
   "id": "4c90b09b-6f1f-42a6-8147-8bc5684e72a7",
   "metadata": {},
   "outputs": [
    {
     "name": "stdout",
     "output_type": "stream",
     "text": [
      "10\n"
     ]
    }
   ],
   "source": [
    "# Largest element in a list\n",
    "# Naive\n",
    "def getMax(l):\n",
    "    for x in l:\n",
    "        for y in l:\n",
    "            if y > x:\n",
    "                break;\n",
    "        else:\n",
    "            return x;\n",
    "    return None\n",
    "\n",
    "l = [1,4,5,9,10]\n",
    "print(getMax(l))"
   ]
  },
  {
   "cell_type": "code",
   "execution_count": 40,
   "id": "0aabfdc5-f872-4f7a-8a25-7dfeca7b902e",
   "metadata": {},
   "outputs": [
    {
     "name": "stdout",
     "output_type": "stream",
     "text": [
      "5\n"
     ]
    }
   ],
   "source": [
    "#optimal\n",
    "def getMax(l):\n",
    "    if not l:\n",
    "        return None\n",
    "    res = l[0]\n",
    "    for i in range(1, len(l)):\n",
    "        if l[i] > res:\n",
    "            res = l[i]\n",
    "    return res\n",
    "\n",
    "l = [ 1,2,3,4,5]\n",
    "print(getMax(l))"
   ]
  },
  {
   "cell_type": "code",
   "execution_count": 10,
   "id": "b972e4a2-cbd9-46aa-bf82-d706ca535464",
   "metadata": {},
   "outputs": [
    {
     "name": "stdin",
     "output_type": "stream",
     "text": [
      " 99 33 22 11 55\n"
     ]
    },
    {
     "name": "stdout",
     "output_type": "stream",
     "text": [
      "55\n"
     ]
    }
   ],
   "source": [
    "# get SecMax\n",
    "def secMax(l):\n",
    "    if len(l)<1:\n",
    "        return\n",
    "    lar = l[0];slar = None\n",
    "    for x in l[1:]:\n",
    "        if x>lar:\n",
    "            slar = lar;\n",
    "            lar = x;\n",
    "        elif x!= lar:\n",
    "            if slar== None or slar<x:\n",
    "                slar = x\n",
    "    return slar\n",
    "\n",
    "\n",
    "l = [int(x) for x in input().split()]\n",
    "print(secMax(l))\n",
    "            "
   ]
  },
  {
   "cell_type": "code",
   "execution_count": 14,
   "id": "36ef2431-f382-468b-9940-66a1c3e9fa9b",
   "metadata": {},
   "outputs": [
    {
     "name": "stdout",
     "output_type": "stream",
     "text": [
      "False\n"
     ]
    }
   ],
   "source": [
    "# Using builtin sorted function to check if the list is sorted\n",
    "def isSorted(l):\n",
    "    l2 = sorted(l)\n",
    "    if l == l2:\n",
    "        return True\n",
    "    else:\n",
    "        return False\n",
    "\n",
    "l = [10,40,50,0];\n",
    "print(isSorted(l))"
   ]
  },
  {
   "cell_type": "code",
   "execution_count": 21,
   "id": "66280b75-e2a4-4304-ac4a-c2cd2227ce53",
   "metadata": {},
   "outputs": [
    {
     "name": "stdout",
     "output_type": "stream",
     "text": [
      "True\n"
     ]
    }
   ],
   "source": [
    "# without built-in functions\n",
    "def isSorted(l):\n",
    "    i = 1\n",
    "    while i<len(l):\n",
    "        if l[i]<l[i-1]:\n",
    "            return False     \n",
    "        i = i+1\n",
    "    return True\n",
    "\n",
    "l = [10,20,20,30]\n",
    "print(isSorted(l))"
   ]
  },
  {
   "cell_type": "code",
   "execution_count": 35,
   "id": "4589a3cb-4d5f-41eb-b22b-ac4cc7146069",
   "metadata": {},
   "outputs": [
    {
     "name": "stdout",
     "output_type": "stream",
     "text": [
      "[30, 20, 10]\n",
      "[10, 20, 30]\n"
     ]
    }
   ],
   "source": [
    "# Reverse a list\n",
    "l = [10,20,30]\n",
    "l.reverse()\n",
    "print(l)\n",
    "new_l = list(reversed(l))\n",
    "print(new_l)"
   ]
  },
  {
   "cell_type": "code",
   "execution_count": 39,
   "id": "3a4e3808-161b-4fc8-8e09-8098ded638d5",
   "metadata": {},
   "outputs": [
    {
     "name": "stdin",
     "output_type": "stream",
     "text": [
      " 10 20 30 40 90\n"
     ]
    },
    {
     "name": "stdout",
     "output_type": "stream",
     "text": [
      "ReversedList [90, 40, 30, 20, 10]\n"
     ]
    }
   ],
   "source": [
    "# Reverse using 2 pointer approach\n",
    "def reverseList(l):\n",
    "    s = 0;\n",
    "    e = len(l)-1;\n",
    "    while s < e:\n",
    "        l[s],l[e] = l[e],l[s]\n",
    "        s= s+1;\n",
    "        e = e-1;\n",
    "\n",
    "l = [int(x) for x in input().split()]\n",
    "reverseList(l)\n",
    "print(\"ReversedList\",l)"
   ]
  },
  {
   "cell_type": "code",
   "execution_count": 55,
   "id": "8a816beb-912a-415c-a1ed-64c59bf7fa37",
   "metadata": {},
   "outputs": [
    {
     "name": "stdout",
     "output_type": "stream",
     "text": [
      "[10, 20, 30, 30, 0, 0, 0]\n"
     ]
    }
   ],
   "source": [
    "# Remove Duplicates\n",
    "def removeDuplicates(l):\n",
    "    temp = [0] * len(l)\n",
    "    temp[0] = l[0];\n",
    "    res = 1;\n",
    "\n",
    "    for i in range(1,len(l)):\n",
    "        if l[res-1]!=l[i]:\n",
    "            temp[res] = l[i]\n",
    "            res +=1;\n",
    "    for i in range(0,res):\n",
    "         l[i] = temp[i]\n",
    "\n",
    "    return temp\n",
    "\n",
    "n = 7  # Size of the array\n",
    "arr = [10, 20, 20, 30, 30, 30, 30]  # Input array with duplicates\n",
    "print(removeDuplicates(arr))  # Call the function and print the number of unique elements"
   ]
  },
  {
   "cell_type": "code",
   "execution_count": 8,
   "id": "5f90f04c-8daa-4813-8856-c11b8bab9288",
   "metadata": {},
   "outputs": [
    {
     "name": "stdout",
     "output_type": "stream",
     "text": [
      "3\n"
     ]
    }
   ],
   "source": [
    "def findodd(arr):\n",
    "    for i in arr:\n",
    "        count = 0\n",
    "        for j in arr:\n",
    "            if i==j:\n",
    "                count +=1\n",
    "        if count%2 != 0:\n",
    "            return i\n",
    "\n",
    "if __name__ == \"__main__\":\n",
    "    arr = [4,3,4,4,4,5,5,3,3]\n",
    "    print(findodd(arr))"
   ]
  },
  {
   "cell_type": "code",
   "execution_count": 10,
   "id": "0a72833f-fe0a-4d1a-bdb3-46fee7d2b738",
   "metadata": {},
   "outputs": [
    {
     "name": "stdout",
     "output_type": "stream",
     "text": [
      "3\n"
     ]
    }
   ],
   "source": [
    "def findodd(arr):\n",
    "    res = 0\n",
    "    for i in arr:\n",
    "        res = res ^ i\n",
    "    return res\n",
    "\n",
    "if __name__ == \"__main__\":\n",
    "    arr = [4,3,4,4,4,5,5,3,3]\n",
    "    print(findodd(arr))"
   ]
  },
  {
   "cell_type": "code",
   "execution_count": null,
   "id": "743d0e4d-818f-41d0-8d23-7bc1787dcc3d",
   "metadata": {},
   "outputs": [],
   "source": []
  }
 ],
 "metadata": {
  "kernelspec": {
   "display_name": "Python 3 (ipykernel)",
   "language": "python",
   "name": "python3"
  },
  "language_info": {
   "codemirror_mode": {
    "name": "ipython",
    "version": 3
   },
   "file_extension": ".py",
   "mimetype": "text/x-python",
   "name": "python",
   "nbconvert_exporter": "python",
   "pygments_lexer": "ipython3",
   "version": "3.12.7"
  }
 },
 "nbformat": 4,
 "nbformat_minor": 5
}
